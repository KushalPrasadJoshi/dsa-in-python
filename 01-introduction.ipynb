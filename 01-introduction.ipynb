{
 "cells": [
  {
   "cell_type": "markdown",
   "id": "dac55b6a",
   "metadata": {},
   "source": [
    "# 01 - Introduction to Data Structures and Algorithms in Python\n",
    "\n",
    "Welcome to the first notebook in our `dsa-in-python` series! In this notebook, we'll cover:\n",
    "\n",
    "- What DSA is\n",
    "- Why you should learn DSA\n",
    "- Core topics overview\n",
    "- Basic terminologies and Python prerequisites\n",
    "- A simple example to get started\n",
    "\n",
    "Let's dive in!"
   ]
  },
  {
   "cell_type": "markdown",
   "id": "918a5911",
   "metadata": {},
   "source": [
    "## What is DSA (Data Structures and Algorithms)?\n",
    "\n",
    "- **Data Structures**: Ways to store and organize data efficiently.\n",
    "- **Algorithms**: Step-by-step procedures to solve computational problems.\n",
    "\n",
    "Together, DSA helps us write **efficient**, **scalable**, and **optimized** code."
   ]
  },
  {
   "cell_type": "markdown",
   "id": "d5c752cf",
   "metadata": {},
   "source": [
    "## Why Learn DSA?\n",
    "\n",
    "1. **Optimize** your code for time and space.\n",
    "2. **Excel** in technical interviews (many questions are DSA-based).\n",
    "3. **Solve** complex real-world problems (routing, scheduling, etc.).\n",
    "4. **Enhance** your problem-solving and logical thinking skills."
   ]
  },
  {
   "cell_type": "markdown",
   "id": "14f05869",
   "metadata": {},
   "source": [
    "## Core Topics Overview\n",
    "\n",
    "We'll explore the following in this course:\n",
    "\n",
    "- Stack & Recursion\n",
    "- Queue\n",
    "- Linked List\n",
    "- Trees\n",
    "- Graphs\n",
    "- Sorting & Searching Algorithms\n",
    "- Dynamic Programming\n",
    "- Greedy Algorithms\n",
    "- Backtracking\n",
    "- Hashing\n",
    "- Bit Manipulation\n",
    "- Advanced Topics\n",
    "- Problem-Solving Techniques"
   ]
  },
  {
   "cell_type": "markdown",
   "id": "75a52a9e",
   "metadata": {},
   "source": [
    "## Notebook Structure\n",
    "\n",
    "Each notebook will include:\n",
    "\n",
    "1. **Theory**: Key concepts and definitions.\n",
    "2. **Implementation**: Python code examples.\n",
    "3. **Explanation**: Step-by-step walkthroughs.\n",
    "4. **Summary**: Recap of what you've learned."
   ]
  },
  {
   "cell_type": "markdown",
   "id": "756d74d3",
   "metadata": {},
   "source": [
    "## Basic Terminologies\n",
    "\n",
    "| Term              | Definition                                                                 |\n",
    "|-------------------|----------------------------------------------------------------------------|\n",
    "| Algorithm         | A finite sequence of well-defined instructions to solve a problem.          |\n",
    "| Data Structure    | A way of organizing and storing data for efficient access and modification. |\n",
    "| Time Complexity   | A measure of the time an algorithm takes as a function of input size.       |\n",
    "| Space Complexity  | A measure of the memory an algorithm needs as a function of input size.     |\n",
    "| Big-O Notation    | Standard notation to express time/space complexity.                        |"
   ]
  },
  {
   "cell_type": "markdown",
   "id": "a8a2cc15",
   "metadata": {},
   "source": [
    "## Python Prerequisites\n",
    "\n",
    "Make sure you're comfortable with:\n",
    "\n",
    "- Variables, data types, and operators\n",
    "- Functions and recursion basics\n",
    "- Loops and conditionals\n",
    "- Lists, tuples, dictionaries, sets\n",
    "- Classes and objects (basic OOP)"
   ]
  },
  {
   "cell_type": "markdown",
   "id": "d4df475c",
   "metadata": {},
   "source": [
    "## Python Classes\n",
    "\n",
    "A python class is a blueprint for creating the python objects"
   ]
  },
  {
   "cell_type": "code",
   "execution_count": 2,
   "id": "e608119c",
   "metadata": {},
   "outputs": [
    {
     "data": {
      "text/plain": [
       "__main__.MyClass"
      ]
     },
     "execution_count": 2,
     "metadata": {},
     "output_type": "execute_result"
    }
   ],
   "source": [
    "class MyClass:\n",
    "    pass\n",
    "\n",
    "# We can create object from the class above.\n",
    "MyClass"
   ]
  },
  {
   "cell_type": "markdown",
   "id": "616c7b8d",
   "metadata": {},
   "source": [
    "## Example: Find the Maximum in a List\n",
    "\n",
    "**Problem statement**: Given a list of numbers, find the maximum element.\n",
    "\n",
    "**Approach**:\n",
    "1. Initialize `max_num` with the first element.\n",
    "2. Iterate through each number in the list.\n",
    "3. If the current number is greater than `max_num`, update `max_num`.\n",
    "4. Return `max_num`."
   ]
  },
  {
   "cell_type": "code",
   "execution_count": 3,
   "id": "421d7e86",
   "metadata": {},
   "outputs": [
    {
     "name": "stdout",
     "output_type": "stream",
     "text": [
      "The maximum number is: 9\n"
     ]
    }
   ],
   "source": [
    "def find_maximum(numbers):\n",
    "    \"\"\"\n",
    "    Returns the maximum element from a non-empty list of numbers.\n",
    "    \"\"\"\n",
    "    max_num = numbers[0]\n",
    "    for num in numbers:\n",
    "        if num > max_num:\n",
    "            max_num = num\n",
    "    return max_num\n",
    "\n",
    "# Example usage\n",
    "nums = [4, 7, 1, 9, 3]\n",
    "print(\"The maximum number is:\", find_maximum(nums))"
   ]
  },
  {
   "cell_type": "markdown",
   "id": "9c0ee564",
   "metadata": {},
   "source": [
    "## Summary\n",
    "\n",
    "- DSA combines data organization with algorithmic problem-solving.\n",
    "- Essential for writing efficient code and acing interviews.\n",
    "- Python provides a simple, readable syntax to implement DSA.\n",
    "\n",
    "Ready for the next notebook? Let's move on to **Stack and Recursion** next!"
   ]
  }
 ],
 "metadata": {
  "kernelspec": {
   "display_name": "Python 3",
   "language": "python",
   "name": "python3"
  },
  "language_info": {
   "codemirror_mode": {
    "name": "ipython",
    "version": 3
   },
   "file_extension": ".py",
   "mimetype": "text/x-python",
   "name": "python",
   "nbconvert_exporter": "python",
   "pygments_lexer": "ipython3",
   "version": "3.13.3"
  }
 },
 "nbformat": 4,
 "nbformat_minor": 5
}
