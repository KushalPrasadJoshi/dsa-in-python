{
 "cells": [
  {
   "cell_type": "markdown",
   "id": "ace2e91d",
   "metadata": {},
   "source": [
    "# Python Classes\n",
    "\n",
    "A python class is a blueprint for creating the python objects"
   ]
  },
  {
   "cell_type": "code",
   "execution_count": 1,
   "id": "fa237c80",
   "metadata": {},
   "outputs": [],
   "source": [
    "class MyClass:\n",
    "    pass"
   ]
  },
  {
   "cell_type": "markdown",
   "id": "8fec5cd1",
   "metadata": {},
   "source": [
    "We can create object from the class above."
   ]
  },
  {
   "cell_type": "code",
   "execution_count": 2,
   "id": "d00f4d92",
   "metadata": {},
   "outputs": [
    {
     "data": {
      "text/plain": [
       "__main__.MyClass"
      ]
     },
     "execution_count": 2,
     "metadata": {},
     "output_type": "execute_result"
    }
   ],
   "source": [
    "MyClass"
   ]
  }
 ],
 "metadata": {
  "kernelspec": {
   "display_name": "Python 3",
   "language": "python",
   "name": "python3"
  },
  "language_info": {
   "codemirror_mode": {
    "name": "ipython",
    "version": 3
   },
   "file_extension": ".py",
   "mimetype": "text/x-python",
   "name": "python",
   "nbconvert_exporter": "python",
   "pygments_lexer": "ipython3",
   "version": "3.13.2"
  }
 },
 "nbformat": 4,
 "nbformat_minor": 5
}
