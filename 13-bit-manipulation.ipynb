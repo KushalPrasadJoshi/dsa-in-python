{
 "cells": [
  {
   "cell_type": "markdown",
   "id": "6d801063",
   "metadata": {},
   "source": [
    "# 13 - Bit Manipulation\n",
    "\n",
    "Welcome to the thirteenth notebook in our `dsa-in-python` series! In this notebook, we will learn about:\n",
    "\n",
    "- What is Bit Manipulation?\n",
    "- Common Bitwise Operators\n",
    "- Bit Tricks and Techniques\n",
    "- Solving problems using bits\n",
    "\n",
    "Let's understand how to work directly with bits! 🧠"
   ]
  },
  {
   "cell_type": "markdown",
   "id": "483c4402",
   "metadata": {},
   "source": [
    "## What is Bit Manipulation?\n",
    "\n",
    "Bit Manipulation involves **directly operating on bits** of integers. It is extremely fast and memory-efficient.\n",
    "\n",
    "It’s heavily used in:\n",
    "- Optimization\n",
    "- Cryptography\n",
    "- Graphics\n",
    "- Competitive programming"
   ]
  },
  {
   "cell_type": "markdown",
   "id": "fa6aae56",
   "metadata": {},
   "source": [
    "## Common Bitwise Operators\n",
    "\n",
    "| Operator | Symbol | Meaning |\n",
    "|:---------|:------:|:--------|\n",
    "| AND      |   &    | 1 if both bits are 1 |\n",
    "| OR       |   \\|   | 1 if any bit is 1 |\n",
    "| XOR      |   ^    | 1 if bits are different |\n",
    "| NOT      |   ~    | Flip all bits |\n",
    "| LEFT SHIFT | << | Shift bits left |\n",
    "| RIGHT SHIFT | >> | Shift bits right |"
   ]
  },
  {
   "cell_type": "code",
   "execution_count": 1,
   "id": "b27fc974",
   "metadata": {},
   "outputs": [
    {
     "name": "stdout",
     "output_type": "stream",
     "text": [
      "AND: 1\n",
      "OR: 7\n",
      "XOR: 6\n",
      "NOT x: -6\n",
      "Left Shift x by 1: 10\n",
      "Right Shift x by 1: 2\n"
     ]
    }
   ],
   "source": [
    "# Examples\n",
    "x = 5  # 0101 in binary\n",
    "y = 3  # 0011 in binary\n",
    "\n",
    "print('AND:', x & y)   # 1 (0001)\n",
    "print('OR:', x | y)    # 7 (0111)\n",
    "print('XOR:', x ^ y)   # 6 (0110)\n",
    "print('NOT x:', ~x)    # -6 (two's complement)\n",
    "print('Left Shift x by 1:', x << 1)  # 10\n",
    "print('Right Shift x by 1:', x >> 1) # 2"
   ]
  },
  {
   "cell_type": "markdown",
   "id": "86fd09b9",
   "metadata": {},
   "source": [
    "## Common Bit Tricks"
   ]
  },
  {
   "cell_type": "markdown",
   "id": "65a081b9",
   "metadata": {},
   "source": [
    "- **Check if a number is even or odd**:\n",
    "  ```python\n",
    "  if n & 1:\n",
    "      print('Odd')\n",
    "  else:\n",
    "      print('Even')\n",
    "  ```\n",
    "\n",
    "- **Swap two numbers without temp variable**:\n",
    "  ```python\n",
    "  a = a ^ b\n",
    "  b = a ^ b\n",
    "  a = a ^ b\n",
    "  ```\n",
    "\n",
    "- **Count number of set bits (1s) in a number**:\n",
    "  ```python\n",
    "  def count_set_bits(n):\n",
    "      count = 0\n",
    "      while n:\n",
    "          count += n & 1\n",
    "          n >>= 1\n",
    "      return count\n",
    "  ```"
   ]
  },
  {
   "cell_type": "markdown",
   "id": "96cffa74",
   "metadata": {},
   "source": [
    "## Example: Find the single number\n",
    "\n",
    "Given a list where every element appears twice except one, find that single one."
   ]
  },
  {
   "cell_type": "code",
   "execution_count": 2,
   "id": "96bd0c41",
   "metadata": {},
   "outputs": [
    {
     "name": "stdout",
     "output_type": "stream",
     "text": [
      "1\n"
     ]
    }
   ],
   "source": [
    "def single_number(nums):\n",
    "    result = 0\n",
    "    for num in nums:\n",
    "        result ^= num\n",
    "    return result\n",
    "\n",
    "# Example usage\n",
    "nums = [2, 2, 1]\n",
    "print(single_number(nums))  # Output: 1"
   ]
  },
  {
   "cell_type": "markdown",
   "id": "b3ee70a6",
   "metadata": {},
   "source": [
    "## Why Bit Manipulation?\n",
    "\n",
    "- Reduces memory usage\n",
    "- Improves performance\n",
    "- Simplifies logic for specific types of problems (like masks, toggling bits, etc.)"
   ]
  },
  {
   "cell_type": "markdown",
   "id": "7978992a",
   "metadata": {},
   "source": [
    "## Summary\n",
    "\n",
    "- Bit Manipulation deals with operating directly at the binary level.\n",
    "- Operators like AND, OR, XOR, NOT are very useful.\n",
    "- Helps optimize code for speed and space.\n",
    "\n",
    "Next up: **14 - Advanced Topics**! 🚀"
   ]
  }
 ],
 "metadata": {
  "kernelspec": {
   "display_name": "Python 3",
   "language": "python",
   "name": "python3"
  },
  "language_info": {
   "codemirror_mode": {
    "name": "ipython",
    "version": 3
   },
   "file_extension": ".py",
   "mimetype": "text/x-python",
   "name": "python",
   "nbconvert_exporter": "python",
   "pygments_lexer": "ipython3",
   "version": "3.10.11"
  }
 },
 "nbformat": 4,
 "nbformat_minor": 5
}
