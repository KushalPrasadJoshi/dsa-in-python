{
 "cells": [
  {
   "cell_type": "markdown",
   "id": "a2eaf651",
   "metadata": {},
   "source": [
    "# 05 - Trees\n",
    "\n",
    "Welcome to the fifth notebook in our `dsa-in-python` series! In this notebook, we'll cover:\n",
    "\n",
    "- **Trees**: Definition, terminology, and types.\n",
    "- **Binary Tree**: Implementation and traversals (preorder, inorder, postorder, level-order).\n",
    "- **Binary Search Tree (BST)**: Operations (insert, search, delete).\n",
    "\n",
    "Let's explore trees!"
   ]
  },
  {
   "cell_type": "markdown",
   "id": "59433c33",
   "metadata": {},
   "source": [
    "## What is a Tree?\n",
    "\n",
    "A **tree** is a hierarchical data structure consisting of nodes, with:\n",
    "\n",
    "- **Root**: The top node without a parent.\n",
    "- **Children**: Nodes directly connected below a node.\n",
    "- **Leaf**: A node without children.\n",
    "- **Edge**: Connection between two nodes.\n",
    "- **Depth**: Number of edges from the root to a node.\n",
    "- **Height**: Number of edges on the longest path from a node to a leaf.\n",
    "\n",
    "Trees generalize the concept of a hierarchy (e.g., file systems, organization charts)."
   ]
  },
  {
   "cell_type": "markdown",
   "id": "c8fe6e21",
   "metadata": {},
   "source": [
    "## Binary Tree\n",
    "\n",
    "A **binary tree** is a tree where each node has at most two children (left and right).\n",
    "\n",
    "### Traversal Methods\n",
    "\n",
    "1. **Preorder (Root-Left-Right)**\n",
    "2. **Inorder (Left-Root-Right)**\n",
    "3. **Postorder (Left-Right-Root)**\n",
    "4. **Level-order (Breadth-First)**"
   ]
  },
  {
   "cell_type": "code",
   "execution_count": 1,
   "id": "05e56385",
   "metadata": {},
   "outputs": [],
   "source": [
    "class TreeNode:\n",
    "    \"\"\"\n",
    "    Node class for a binary tree.\n",
    "    \"\"\"\n",
    "    def __init__(self, val):\n",
    "        self.val = val\n",
    "        self.left = None\n",
    "        self.right = None\n",
    "\n",
    "# Traversal functions\n",
    "\n",
    "def preorder(root, result=None):\n",
    "    if result is None:\n",
    "        result = []\n",
    "    if root:\n",
    "        result.append(root.val)\n",
    "        preorder(root.left, result)\n",
    "        preorder(root.right, result)\n",
    "    return result\n",
    "\n",
    "\n",
    "def inorder(root, result=None):\n",
    "    if result is None:\n",
    "        result = []\n",
    "    if root:\n",
    "        inorder(root.left, result)\n",
    "        result.append(root.val)\n",
    "        inorder(root.right, result)\n",
    "    return result\n",
    "\n",
    "\n",
    "def postorder(root, result=None):\n",
    "    if result is None:\n",
    "        result = []\n",
    "    if root:\n",
    "        postorder(root.left, result)\n",
    "        postorder(root.right, result)\n",
    "        result.append(root.val)\n",
    "    return result\n",
    "\n",
    "from collections import deque\n",
    "\n",
    "def level_order(root):\n",
    "    result = []\n",
    "    if not root:\n",
    "        return result\n",
    "    queue = deque([root])\n",
    "    while queue:\n",
    "        node = queue.popleft()\n",
    "        result.append(node.val)\n",
    "        if node.left:\n",
    "            queue.append(node.left)\n",
    "        if node.right:\n",
    "            queue.append(node.right)\n",
    "    return result"
   ]
  },
  {
   "cell_type": "markdown",
   "id": "20723059",
   "metadata": {},
   "source": [
    "### Example Usage of Traversals\n",
    "\n",
    "Create a sample tree:\n",
    "```\n",
    "       1\n",
    "      / \\\n",
    "     2   3\n",
    "    / \\   \\\n",
    "   4   5   6\n",
    "```"
   ]
  },
  {
   "cell_type": "code",
   "execution_count": 2,
   "id": "20c449d4",
   "metadata": {},
   "outputs": [
    {
     "name": "stdout",
     "output_type": "stream",
     "text": [
      "Preorder: [1, 2, 4, 5, 3, 6]\n",
      "Inorder: [4, 2, 5, 1, 3, 6]\n",
      "Postorder: [4, 5, 2, 6, 3, 1]\n",
      "Level-order: [1, 2, 3, 4, 5, 6]\n"
     ]
    }
   ],
   "source": [
    "# Build the sample tree\n",
    "root = TreeNode(1)\n",
    "root.left = TreeNode(2)\n",
    "root.right = TreeNode(3)\n",
    "root.left.left = TreeNode(4)\n",
    "root.left.right = TreeNode(5)\n",
    "root.right.right = TreeNode(6)\n",
    "\n",
    "print(\"Preorder:\", preorder(root))\n",
    "print(\"Inorder:\", inorder(root))\n",
    "print(\"Postorder:\", postorder(root))\n",
    "print(\"Level-order:\", level_order(root))"
   ]
  },
  {
   "cell_type": "markdown",
   "id": "a817deee",
   "metadata": {},
   "source": [
    "## Binary Search Tree (BST)\n",
    "\n",
    "A **BST** is a binary tree where for each node:\n",
    "\n",
    "- Left subtree has values < node's value.\n",
    "- Right subtree has values > node's value.\n",
    "\n",
    "This property allows efficient search, insertion, and deletion."
   ]
  },
  {
   "cell_type": "code",
   "execution_count": 11,
   "id": "51580dfb",
   "metadata": {},
   "outputs": [],
   "source": [
    "class BST:\n",
    "    \"\"\"\n",
    "    Binary Search Tree implementation.\n",
    "    \"\"\"\n",
    "    def __init__(self):\n",
    "        self.root = None\n",
    "\n",
    "    def insert(self, val):\n",
    "        def _insert(node, val):\n",
    "            if not node:\n",
    "                return TreeNode(val)\n",
    "            if val < node.val:\n",
    "                node.left = _insert(node.left, val)\n",
    "            else:\n",
    "                node.right = _insert(node.right, val)\n",
    "            return node\n",
    "        self.root = _insert(self.root, val)\n",
    "\n",
    "    def search(self, val):\n",
    "        def _search(node, val):\n",
    "            if not node or node.val == val:\n",
    "                return node\n",
    "            if val < node.val:\n",
    "                return _search(node.left, val)\n",
    "            return _search(node.right, val)\n",
    "        return _search(self.root, val)\n",
    "\n",
    "    def delete(self, val):\n",
    "        def _delete(node, val):\n",
    "            if not node:\n",
    "                return None\n",
    "            if val < node.val:\n",
    "                node.left = _delete(node.left, val)\n",
    "            elif val > node.val:\n",
    "                node.right = _delete(node.right, val)\n",
    "            else:\n",
    "                if not node.left:\n",
    "                    return node.right\n",
    "                if not node.right:\n",
    "                    return node.left\n",
    "                # Node with two children: find inorder successor\n",
    "                succ = node.right\n",
    "                while succ.left:\n",
    "                    succ = succ.left\n",
    "                node.val = succ.val\n",
    "                node.right = _delete(node.right, succ.val)\n",
    "            return node\n",
    "        self.root = _delete(self.root, val)"
   ]
  },
  {
   "cell_type": "markdown",
   "id": "50018598",
   "metadata": {},
   "source": [
    "### Example Usage of BST\n",
    "\n",
    "Insert values [5, 3, 7, 2, 4, 6, 8], then search and delete:"
   ]
  },
  {
   "cell_type": "code",
   "execution_count": 12,
   "id": "a0c9517e",
   "metadata": {},
   "outputs": [
    {
     "name": "stdout",
     "output_type": "stream",
     "text": [
      "Search 4: 4\n",
      "Inorder after deleting 3: [2, 4, 5, 6, 7, 8]\n"
     ]
    }
   ],
   "source": [
    "bst = BST()\n",
    "for v in [5, 3, 7, 2, 4, 6, 8]:\n",
    "    bst.insert(v)\n",
    "\n",
    "print(\"Search 4:\", bst.search(4).val if bst.search(4) else None)\n",
    "\n",
    "bst.delete(3)\n",
    "print(\"Inorder after deleting 3:\", inorder(bst.root))"
   ]
  },
  {
   "cell_type": "markdown",
   "id": "0911528e",
   "metadata": {},
   "source": [
    "## Summary\n",
    "\n",
    "- **Trees**: Hierarchical structures with nodes and edges.\n",
    "- **Binary Trees**: Traversals (pre, in, post, level).\n",
    "- **BSTs**: Enforce ordering for efficient operations (insert, search, delete).\n",
    "\n",
    "Next up: **06 - Graphs**. Ready to proceed? 🚀"
   ]
  }
 ],
 "metadata": {
  "kernelspec": {
   "display_name": "Python 3",
   "language": "python",
   "name": "python3"
  },
  "language_info": {
   "codemirror_mode": {
    "name": "ipython",
    "version": 3
   },
   "file_extension": ".py",
   "mimetype": "text/x-python",
   "name": "python",
   "nbconvert_exporter": "python",
   "pygments_lexer": "ipython3",
   "version": "3.13.3"
  }
 },
 "nbformat": 4,
 "nbformat_minor": 5
}
