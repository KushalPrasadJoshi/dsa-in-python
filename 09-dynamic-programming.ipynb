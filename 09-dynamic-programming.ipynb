{
 "cells": [
  {
   "cell_type": "markdown",
   "id": "4ed02c9e",
   "metadata": {},
   "source": [
    "# 09 - Dynamic Programming\n",
    "\n",
    "Welcome to the ninth notebook in our `dsa-in-python` series! In this notebook, we'll cover:\n",
    "\n",
    "- **Dynamic Programming (DP)**: Definition and when to use it.\n",
    "- **Top-Down (Memoization)** vs **Bottom-Up (Tabulation)**.\n",
    "- **Classic DP Problems**: Fibonacci, 0/1 Knapsack.\n",
    "\n",
    "Let's get started!"
   ]
  },
  {
   "cell_type": "markdown",
   "id": "0461d86f",
   "metadata": {},
   "source": [
    "## What is Dynamic Programming?\n",
    "\n",
    "Dynamic Programming is an optimization technique for solving problems with:\n",
    "\n",
    "- **Overlapping Subproblems**: Smaller subproblems recur multiple times.\n",
    "- **Optimal Substructure**: Optimal solution can be composed from optimal solutions of subproblems.\n",
    "\n",
    "DP stores results of subproblems to avoid redundant computations."
   ]
  },
  {
   "cell_type": "markdown",
   "id": "48042882",
   "metadata": {},
   "source": [
    "## Approaches\n",
    "\n",
    "1. **Top-Down (Memoization)**: Recursively solve subproblems and cache results.\n",
    "2. **Bottom-Up (Tabulation)**: Iteratively build up a table from smallest subproblems."
   ]
  },
  {
   "cell_type": "markdown",
   "id": "20986baf",
   "metadata": {},
   "source": [
    "## Example 1: Fibonacci Sequence with DP\n",
    "\n",
    "### Top-Down Memoization"
   ]
  },
  {
   "cell_type": "code",
   "execution_count": 1,
   "id": "b3fdd000",
   "metadata": {},
   "outputs": [
    {
     "name": "stdout",
     "output_type": "stream",
     "text": [
      "fib_memo(30) = 832040\n"
     ]
    }
   ],
   "source": [
    "from functools import lru_cache\n",
    "\n",
    "@lru_cache(maxsize=None)\n",
    "def fib_memo(n):\n",
    "    \"\"\"Compute nth Fibonacci using memoization.\"\"\"\n",
    "    if n < 2:\n",
    "        return n\n",
    "    return fib_memo(n-1) + fib_memo(n-2)\n",
    "\n",
    "# Example usage\n",
    "print(\"fib_memo(30) =\", fib_memo(30))"
   ]
  },
  {
   "cell_type": "markdown",
   "id": "70af344c",
   "metadata": {},
   "source": [
    "### Bottom-Up Tabulation"
   ]
  },
  {
   "cell_type": "code",
   "execution_count": 2,
   "id": "0465bf81",
   "metadata": {},
   "outputs": [
    {
     "name": "stdout",
     "output_type": "stream",
     "text": [
      "fib_tab(30) = 832040\n"
     ]
    }
   ],
   "source": [
    "def fib_tab(n):\n",
    "    \"\"\"Compute nth Fibonacci using bottom-up DP.\"\"\"\n",
    "    if n < 2:\n",
    "        return n\n",
    "    dp = [0] * (n+1)\n",
    "    dp[0], dp[1] = 0, 1\n",
    "    for i in range(2, n+1):\n",
    "        dp[i] = dp[i-1] + dp[i-2]\n",
    "    return dp[n]\n",
    "\n",
    "# Example usage\n",
    "print(\"fib_tab(30) =\", fib_tab(30))"
   ]
  },
  {
   "cell_type": "markdown",
   "id": "997fec36",
   "metadata": {},
   "source": [
    "## Example 2: 0/1 Knapsack Problem\n",
    "\n",
    "**Problem Statement**: Given weights and values of `n` items, put items in a knapsack of capacity `W` to get maximum total value.\n",
    "\n",
    "### Bottom-Up Tabulation"
   ]
  },
  {
   "cell_type": "code",
   "execution_count": 3,
   "id": "dbc9ac19",
   "metadata": {},
   "outputs": [
    {
     "name": "stdout",
     "output_type": "stream",
     "text": [
      "Max value = 220\n"
     ]
    }
   ],
   "source": [
    "def knapsack(values, weights, W):\n",
    "    \"\"\"\n",
    "    Solve 0/1 Knapsack with bottom-up DP.\n",
    "    Returns max value for capacity W.\n",
    "    \"\"\"\n",
    "    n = len(values)\n",
    "    dp = [[0] * (W+1) for _ in range(n+1)]\n",
    "    for i in range(1, n+1):\n",
    "        for w in range(W+1):\n",
    "            if weights[i-1] <= w:\n",
    "                dp[i][w] = max(dp[i-1][w], dp[i-1][w-weights[i-1]] + values[i-1])\n",
    "            else:\n",
    "                dp[i][w] = dp[i-1][w]\n",
    "    return dp[n][W]\n",
    "\n",
    "# Example usage\n",
    "vals = [60, 100, 120]\n",
    "wgts = [10, 20, 30]\n",
    "capacity = 50\n",
    "print(\"Max value =\", knapsack(vals, wgts, capacity))"
   ]
  },
  {
   "cell_type": "markdown",
   "id": "d701067c",
   "metadata": {},
   "source": [
    "## Summary\n",
    "\n",
    "- DP optimizes recursive solutions by caching subproblem results.\n",
    "- **Top-Down** (memoization) is easier to implement; **Bottom-Up** (tabulation) is often more space/time efficient.\n",
    "- Classic examples include Fibonacci, Knapsack, and many others.\n",
    "\n",
    "Next up: **10 - Greedy Algorithms**. Ready to move on? 🚀"
   ]
  }
 ],
 "metadata": {
  "kernelspec": {
   "display_name": "Python 3",
   "language": "python",
   "name": "python3"
  },
  "language_info": {
   "codemirror_mode": {
    "name": "ipython",
    "version": 3
   },
   "file_extension": ".py",
   "mimetype": "text/x-python",
   "name": "python",
   "nbconvert_exporter": "python",
   "pygments_lexer": "ipython3",
   "version": "3.13.3"
  }
 },
 "nbformat": 4,
 "nbformat_minor": 5
}
