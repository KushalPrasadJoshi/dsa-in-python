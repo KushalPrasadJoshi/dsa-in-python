{
 "cells": [
  {
   "cell_type": "markdown",
   "id": "cf862730",
   "metadata": {},
   "source": [
    "# 03 - Queue\n",
    "\n",
    "Welcome to the third notebook in our `dsa-in-python` series! In this notebook, we'll cover:\n",
    "\n",
    "- **Queues**: Definition, operations, and implementation in Python.\n",
    "- Use cases and examples.\n",
    "\n",
    "Let's get started!"
   ]
  },
  {
   "cell_type": "markdown",
   "id": "61d79488",
   "metadata": {},
   "source": [
    "## What is a Queue?\n",
    "\n",
    "A **Queue** is a linear data structure that follows the First-In-First-Out (FIFO) principle.\n",
    "\n",
    "- The first element added to the queue will be the first one removed.\n",
    "- Think of it like a real-world queue (e.g., customers in line)."
   ]
  },
  {
   "cell_type": "markdown",
   "id": "e80d3e9d",
   "metadata": {},
   "source": [
    "## Queue Operations\n",
    "\n",
    "| Operation     | Description                                            | Time Complexity |\n",
    "|---------------|--------------------------------------------------------|-----------------|\n",
    "| `enqueue(x)`  | Add element `x` to the back of the queue              | O(1)            |\n",
    "| `dequeue()`   | Remove and return the front element                    | O(1)            |\n",
    "| `peek()`      | Return the front element without removing it           | O(1)            |\n",
    "| `is_empty()`  | Check if the queue is empty                            | O(1)            |\n",
    "| `size()`      | Return the number of elements in the queue             | O(1)            |"
   ]
  },
  {
   "cell_type": "markdown",
   "id": "a4d3ff01",
   "metadata": {},
   "source": [
    "## Implementing a Queue in Python\n",
    "\n",
    "We'll use a Python list internally, but note that for large queues a `collections.deque` is more efficient."
   ]
  },
  {
   "cell_type": "code",
   "execution_count": 1,
   "id": "3c334d38",
   "metadata": {},
   "outputs": [
    {
     "name": "stdout",
     "output_type": "stream",
     "text": [
      "Front element: 10\n",
      "Dequeued: 10\n",
      "New front: 20\n",
      "Queue size: 2\n"
     ]
    }
   ],
   "source": [
    "class Queue:\n",
    "    \"\"\"\n",
    "    Queue data structure implemented using a Python list.\n",
    "    \"\"\"\n",
    "    def __init__(self):\n",
    "        self._items = []\n",
    "\n",
    "    def enqueue(self, item):\n",
    "        \"\"\"Add an item to the back of the queue.\"\"\"\n",
    "        self._items.append(item)\n",
    "\n",
    "    def dequeue(self):\n",
    "        \"\"\"Remove and return the front item. Raises IndexError if empty.\"\"\"\n",
    "        if self.is_empty():\n",
    "            raise IndexError(\"dequeue from empty queue\")\n",
    "        return self._items.pop(0)\n",
    "\n",
    "    def peek(self):\n",
    "        \"\"\"Return the front item without removing it.\"\"\"\n",
    "        if self.is_empty():\n",
    "            raise IndexError(\"peek from empty queue\")\n",
    "        return self._items[0]\n",
    "\n",
    "    def is_empty(self):\n",
    "        \"\"\"Check if the queue is empty.\"\"\"\n",
    "        return len(self._items) == 0\n",
    "\n",
    "    def size(self):\n",
    "        \"\"\"Return the number of items in the queue.\"\"\"\n",
    "        return len(self._items)\n",
    "\n",
    "# Example usage\n",
    "q = Queue()\n",
    "q.enqueue(10)\n",
    "q.enqueue(20)\n",
    "q.enqueue(30)\n",
    "print(\"Front element:\", q.peek())\n",
    "print(\"Dequeued:\", q.dequeue())\n",
    "print(\"New front:\", q.peek())\n",
    "print(\"Queue size:\", q.size())"
   ]
  },
  {
   "cell_type": "markdown",
   "id": "4b89c298",
   "metadata": {},
   "source": [
    "## Use Case: Level-Order Traversal of a Binary Tree\n",
    "\n",
    "Queues are commonly used for breadth-first traversal. Example code:"
   ]
  },
  {
   "cell_type": "code",
   "execution_count": 2,
   "id": "58130e9e",
   "metadata": {},
   "outputs": [
    {
     "name": "stdout",
     "output_type": "stream",
     "text": [
      "Level-order traversal: [1, 2, 3, 4, 5, 6]\n"
     ]
    }
   ],
   "source": [
    "from collections import deque\n",
    "\n",
    "class TreeNode:\n",
    "    def __init__(self, val=0, left=None, right=None):\n",
    "        self.val = val\n",
    "        self.left = left\n",
    "        self.right = right\n",
    "\n",
    "\n",
    "def level_order_traversal(root):\n",
    "    \"\"\"\n",
    "    Perform level-order traversal (breadth-first) of a binary tree.\n",
    "    Returns a list of values level by level.\n",
    "    \"\"\"\n",
    "    if not root:\n",
    "        return []\n",
    "    result = []\n",
    "    queue = deque([root])\n",
    "    while queue:\n",
    "        node = queue.popleft()\n",
    "        result.append(node.val)\n",
    "        if node.left:\n",
    "            queue.append(node.left)\n",
    "        if node.right:\n",
    "            queue.append(node.right)\n",
    "    return result\n",
    "\n",
    "# Example tree construction\n",
    "#       1\n",
    "#      / \\\n",
    "#     2   3\n",
    "#    / \\   \\\n",
    "#   4   5   6\n",
    "\n",
    "root = TreeNode(1,\n",
    "                TreeNode(2, TreeNode(4), TreeNode(5)),\n",
    "                TreeNode(3, None, TreeNode(6)))\n",
    "\n",
    "print(\"Level-order traversal:\", level_order_traversal(root))"
   ]
  },
  {
   "cell_type": "markdown",
   "id": "eb05fd6f",
   "metadata": {},
   "source": [
    "## Summary\n",
    "\n",
    "- **Queue**: FIFO data structure with `enqueue`, `dequeue`, `peek`, `is_empty`, and `size` operations.\n",
    "- Python lists can implement queues, but `collections.deque` is preferred for performance.\n",
    "- Queues are essential for BFS and other algorithms requiring FIFO order.\n",
    "\n",
    "Next up: **04 - Linked List**. Ready to continue? 🚀"
   ]
  }
 ],
 "metadata": {
  "kernelspec": {
   "display_name": "Python 3",
   "language": "python",
   "name": "python3"
  },
  "language_info": {
   "codemirror_mode": {
    "name": "ipython",
    "version": 3
   },
   "file_extension": ".py",
   "mimetype": "text/x-python",
   "name": "python",
   "nbconvert_exporter": "python",
   "pygments_lexer": "ipython3",
   "version": "3.13.3"
  }
 },
 "nbformat": 4,
 "nbformat_minor": 5
}
