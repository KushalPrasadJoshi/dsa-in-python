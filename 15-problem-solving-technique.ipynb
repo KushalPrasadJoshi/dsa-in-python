{
 "cells": [
  {
   "cell_type": "markdown",
   "id": "8ed3ad16",
   "metadata": {},
   "source": [
    "# Problem Solving Technique\n",
    "\n",
    "Congratulations! You've made it to the final chapter of our dsa-in-python journey. 🏆\n",
    "\n",
    "**In this notebook, we'll cover important problem-solving strategies like:**\n",
    "- Brute Force\n",
    "- Divide and Conquer\n",
    "- Greedy Algorithms\n",
    "- Dynamic Programming\n",
    "- Backtracking\n",
    "- Two Pointers\n",
    "- Sliding Window\n",
    "- Binary Search on Answer\n",
    "\n",
    "Let's master how to think before we code! 💡"
   ]
  },
  {
   "cell_type": "markdown",
   "id": "3919f944",
   "metadata": {},
   "source": [
    "## Systematic Strategy\n",
    "\n",
    "1. State the problem clearly to identify the input and output formats.\n",
    "2. Try to get some examples to cover all edge cases.\n",
    "3. Get a correct solution in plain English or a pseudocode.\n",
    "4. Implement your solution in the desired programminng language (Python).\n",
    "5. Test your solution using the example inputs from (2).\n",
    "6. Fix the bugs if found.\n",
    "7. Analyze the algorithm's complexity (Time and Space).\n",
    "8. Try to overcome the inefficiencies if found. Repeat form (3) to (8) until you are satisfied with your solution"
   ]
  },
  {
   "cell_type": "markdown",
   "id": "db88bc91",
   "metadata": {},
   "source": [
    "## Brute Force\n",
    "\n",
    "- Try **all possible solutions**.\n",
    "- Simple but inefficient.\n",
    "\n",
    "**Example**: Find two numbers in a list that sum to a target."
   ]
  },
  {
   "cell_type": "code",
   "execution_count": 1,
   "id": "7b12fd1a",
   "metadata": {},
   "outputs": [
    {
     "name": "stdout",
     "output_type": "stream",
     "text": [
      "(0, 1)\n"
     ]
    }
   ],
   "source": [
    "def two_sum_brute(nums, target):\n",
    "    for i in range(len(nums)):\n",
    "        for j in range(i + 1, len(nums)):\n",
    "            if nums[i] + nums[j] == target:\n",
    "                return (i, j)\n",
    "    return None\n",
    "\n",
    "print(two_sum_brute([2, 7, 11, 15], 9))  # Output: (0, 1)"
   ]
  },
  {
   "cell_type": "markdown",
   "id": "cc3f2f71",
   "metadata": {},
   "source": [
    "## Divide and Conquer\n",
    "\n",
    "- Break the problem into smaller parts, solve them independently, then combine.\n",
    "\n",
    "**Example**: Merge Sort."
   ]
  },
  {
   "cell_type": "code",
   "execution_count": 2,
   "id": "49ddf538",
   "metadata": {},
   "outputs": [
    {
     "name": "stdout",
     "output_type": "stream",
     "text": [
      "[5, 6, 7, 11, 12, 13]\n"
     ]
    }
   ],
   "source": [
    "def merge_sort(arr):\n",
    "    if len(arr) > 1:\n",
    "        mid = len(arr) // 2\n",
    "        L = arr[:mid]\n",
    "        R = arr[mid:]\n",
    "\n",
    "        merge_sort(L)\n",
    "        merge_sort(R)\n",
    "\n",
    "        i = j = k = 0\n",
    "\n",
    "        while i < len(L) and j < len(R):\n",
    "            if L[i] < R[j]:\n",
    "                arr[k] = L[i]\n",
    "                i += 1\n",
    "            else:\n",
    "                arr[k] = R[j]\n",
    "                j += 1\n",
    "            k += 1\n",
    "\n",
    "        while i < len(L):\n",
    "            arr[k] = L[i]\n",
    "            i += 1\n",
    "            k += 1\n",
    "\n",
    "        while j < len(R):\n",
    "            arr[k] = R[j]\n",
    "            j += 1\n",
    "            k += 1\n",
    "\n",
    "arr = [12, 11, 13, 5, 6, 7]\n",
    "merge_sort(arr)\n",
    "print(arr)"
   ]
  },
  {
   "cell_type": "markdown",
   "id": "0ffdbb6f",
   "metadata": {},
   "source": [
    "## Greedy Algorithms\n",
    "\n",
    "- Always pick the **best choice at the moment**.\n",
    "- Not always optimal, but fast.\n",
    "\n",
    "**Example**: Activity Selection Problem."
   ]
  },
  {
   "cell_type": "code",
   "execution_count": 3,
   "id": "f5986caa",
   "metadata": {},
   "outputs": [
    {
     "name": "stdout",
     "output_type": "stream",
     "text": [
      "3\n"
     ]
    }
   ],
   "source": [
    "def activity_selection(activities):\n",
    "    activities.sort(key=lambda x: x[1])\n",
    "    last_end = -1\n",
    "    count = 0\n",
    "    for start, end in activities:\n",
    "        if start >= last_end:\n",
    "            count += 1\n",
    "            last_end = end\n",
    "    return count\n",
    "\n",
    "print(activity_selection([(1, 2), (3, 4), (0, 6), (5, 7)]))"
   ]
  },
  {
   "cell_type": "markdown",
   "id": "c6768c69",
   "metadata": {},
   "source": [
    "## Dynamic Programming\n",
    "\n",
    "- Solve **overlapping subproblems** and store their results.\n",
    "\n",
    "**Example**: Fibonacci Sequence with memoization."
   ]
  },
  {
   "cell_type": "code",
   "execution_count": 4,
   "id": "ced3ae71",
   "metadata": {},
   "outputs": [
    {
     "name": "stdout",
     "output_type": "stream",
     "text": [
      "55\n"
     ]
    }
   ],
   "source": [
    "def fib(n, memo={}):\n",
    "    if n in memo:\n",
    "        return memo[n]\n",
    "    if n <= 1:\n",
    "        return n\n",
    "    memo[n] = fib(n-1, memo) + fib(n-2, memo)\n",
    "    return memo[n]\n",
    "\n",
    "print(fib(10))  # Output: 55"
   ]
  },
  {
   "cell_type": "markdown",
   "id": "f02387b7",
   "metadata": {},
   "source": [
    "## Backtracking\n",
    "\n",
    "- Try all options **recursively**, and undo if needed.\n",
    "\n",
    "**Example**: Solve N-Queens problem."
   ]
  },
  {
   "cell_type": "code",
   "execution_count": 5,
   "id": "9fa9d5a9",
   "metadata": {},
   "outputs": [
    {
     "name": "stdout",
     "output_type": "stream",
     "text": [
      "[[1, 3, 0, 2], [2, 0, 3, 1]]\n"
     ]
    }
   ],
   "source": [
    "def solve_n_queens(n):\n",
    "    res = []\n",
    "    board = [-1] * n\n",
    "\n",
    "    def is_safe(row, col):\n",
    "        for r in range(row):\n",
    "            if board[r] == col or abs(board[r] - col) == abs(r - row):\n",
    "                return False\n",
    "        return True\n",
    "\n",
    "    def backtrack(row=0):\n",
    "        if row == n:\n",
    "            res.append(board[:])\n",
    "            return\n",
    "        for col in range(n):\n",
    "            if is_safe(row, col):\n",
    "                board[row] = col\n",
    "                backtrack(row + 1)\n",
    "                board[row] = -1\n",
    "\n",
    "    backtrack()\n",
    "    return res\n",
    "\n",
    "print(solve_n_queens(4))"
   ]
  },
  {
   "cell_type": "markdown",
   "id": "3621fbf2",
   "metadata": {},
   "source": [
    "## Two Pointers\n",
    "\n",
    "- Use two indices to **scan** the list.\n",
    "\n",
    "**Example**: Reverse an array."
   ]
  },
  {
   "cell_type": "code",
   "execution_count": 6,
   "id": "0c7969b5",
   "metadata": {},
   "outputs": [
    {
     "name": "stdout",
     "output_type": "stream",
     "text": [
      "[5, 4, 3, 2, 1]\n"
     ]
    }
   ],
   "source": [
    "def reverse_array(arr):\n",
    "    l, r = 0, len(arr) - 1\n",
    "    while l < r:\n",
    "        arr[l], arr[r] = arr[r], arr[l]\n",
    "        l += 1\n",
    "        r -= 1\n",
    "    return arr\n",
    "\n",
    "print(reverse_array([1, 2, 3, 4, 5]))"
   ]
  },
  {
   "cell_type": "markdown",
   "id": "240adc0a",
   "metadata": {},
   "source": [
    "## Sliding Window\n",
    "\n",
    "- **Dynamic-sized window** to optimize subarray problems.\n",
    "\n",
    "**Example**: Maximum sum of subarray of size k."
   ]
  },
  {
   "cell_type": "code",
   "execution_count": 7,
   "id": "1fbfe00a",
   "metadata": {},
   "outputs": [
    {
     "name": "stdout",
     "output_type": "stream",
     "text": [
      "18\n"
     ]
    }
   ],
   "source": [
    "def max_sum_subarray(arr, k):\n",
    "    max_sum = curr_sum = sum(arr[:k])\n",
    "    for i in range(k, len(arr)):\n",
    "        curr_sum += arr[i] - arr[i - k]\n",
    "        max_sum = max(max_sum, curr_sum)\n",
    "    return max_sum\n",
    "\n",
    "print(max_sum_subarray([1, 2, 3, 4, 5, 6, 7], 3))"
   ]
  },
  {
   "cell_type": "markdown",
   "id": "31742042",
   "metadata": {},
   "source": [
    "## Binary Search on Answer\n",
    "\n",
    "- Use binary search to find the **optimal answer** in a range.\n",
    "\n",
    "**Example**: Minimum maximum pages to allocate to students."
   ]
  },
  {
   "cell_type": "code",
   "execution_count": 8,
   "id": "ac242168",
   "metadata": {},
   "outputs": [
    {
     "name": "stdout",
     "output_type": "stream",
     "text": [
      "113\n"
     ]
    }
   ],
   "source": [
    "def is_possible(pages, students, max_pages):\n",
    "    count = 1\n",
    "    curr = 0\n",
    "    for page in pages:\n",
    "        if curr + page > max_pages:\n",
    "            count += 1\n",
    "            curr = page\n",
    "            if page > max_pages:\n",
    "                return False\n",
    "        else:\n",
    "            curr += page\n",
    "    return count <= students\n",
    "\n",
    "def allocate_pages(pages, students):\n",
    "    if students > len(pages):\n",
    "        return -1\n",
    "    low, high = max(pages), sum(pages)\n",
    "    res = high\n",
    "    while low <= high:\n",
    "        mid = (low + high) // 2\n",
    "        if is_possible(pages, students, mid):\n",
    "            res = mid\n",
    "            high = mid - 1\n",
    "        else:\n",
    "            low = mid + 1\n",
    "    return res\n",
    "\n",
    "print(allocate_pages([12, 34, 67, 90], 2))"
   ]
  },
  {
   "cell_type": "markdown",
   "id": "c0435c6b",
   "metadata": {},
   "source": [
    "## Summary\n",
    "\n",
    "- Different problems require different techniques.\n",
    "- Practice identifying the right technique for the problem.\n",
    "\n",
    "> Congratulations! You have completed the full **DSA in Python** journey! 🎉🎉\n",
    "\n",
    "Now go and solve real-world problems and crack those interviews! 🚀🔥\n"
   ]
  }
 ],
 "metadata": {
  "kernelspec": {
   "display_name": "Python 3",
   "language": "python",
   "name": "python3"
  },
  "language_info": {
   "codemirror_mode": {
    "name": "ipython",
    "version": 3
   },
   "file_extension": ".py",
   "mimetype": "text/x-python",
   "name": "python",
   "nbconvert_exporter": "python",
   "pygments_lexer": "ipython3",
   "version": "3.10.11"
  }
 },
 "nbformat": 4,
 "nbformat_minor": 5
}
