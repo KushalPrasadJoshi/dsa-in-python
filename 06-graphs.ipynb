{
 "cells": [
  {
   "cell_type": "markdown",
   "id": "22c3716a",
   "metadata": {},
   "source": [
    "# 06 - Graphs\n",
    "\n",
    "Welcome to the sixth notebook in our `dsa-in-python` series! In this notebook, we'll cover:\n",
    "\n",
    "- **Graphs**: Definition, terminology, and types.\n",
    "- **Representations**: Adjacency list and matrix.\n",
    "- **Traversals**: Breadth-First Search (BFS) and Depth-First Search (DFS).\n",
    "\n",
    "Let's explore graphs!"
   ]
  },
  {
   "cell_type": "markdown",
   "id": "7b10958a",
   "metadata": {},
   "source": [
    "## What is a Graph?\n",
    "\n",
    "A **graph** is a collection of:\n",
    "\n",
    "- **Vertices (Nodes)**: Fundamental units of the graph.\n",
    "- **Edges**: Connections between pairs of vertices.\n",
    "\n",
    "Graphs can be **directed** (edges have direction) or **undirected** (edges are bidirectional). They may also have **weights** on edges for weighted graphs."
   ]
  },
  {
   "cell_type": "markdown",
   "id": "5dcde9f9",
   "metadata": {},
   "source": [
    "## Graph Representations\n",
    "\n",
    "### 1. Adjacency List\n",
    "- A dictionary or list of lists mapping each vertex to its neighbors.\n",
    "- Space-efficient for sparse graphs.\n",
    "\n",
    "### 2. Adjacency Matrix\n",
    "- A 2D list (matrix) where `matrix[u][v]` indicates the presence (and possibly weight) of an edge from `u` to `v`.\n",
    "- Good for dense graphs but uses O(V^2) space."
   ]
  },
  {
   "cell_type": "code",
   "execution_count": 1,
   "id": "c85d773a",
   "metadata": {},
   "outputs": [
    {
     "name": "stdout",
     "output_type": "stream",
     "text": [
      "Adjacency List Representation:\n",
      "0: [1, 4]\n",
      "1: [0, 2, 3, 4]\n",
      "2: [1]\n",
      "3: [1]\n",
      "4: [0, 1]\n"
     ]
    }
   ],
   "source": [
    "# Adjacency List Representation\n",
    "class GraphAdjList:\n",
    "    def __init__(self, vertices):\n",
    "        self.V = vertices\n",
    "        self.adj = {v: [] for v in range(vertices)}\n",
    "\n",
    "    def add_edge(self, u, v, directed=False):\n",
    "        self.adj[u].append(v)\n",
    "        if not directed:\n",
    "            self.adj[v].append(u)\n",
    "\n",
    "    def __str__(self):\n",
    "        return '\\n'.join(f\"{v}: {self.adj[v]}\" for v in self.adj)\n",
    "\n",
    "# Example\n",
    "g = GraphAdjList(5)\n",
    "g.add_edge(0, 1)\n",
    "g.add_edge(0, 4)\n",
    "g.add_edge(1, 2)\n",
    "g.add_edge(1, 3)\n",
    "g.add_edge(1, 4)\n",
    "print(\"Adjacency List Representation:\")\n",
    "print(g)"
   ]
  },
  {
   "cell_type": "code",
   "execution_count": 2,
   "id": "3ea54354",
   "metadata": {},
   "outputs": [
    {
     "name": "stdout",
     "output_type": "stream",
     "text": [
      "Adjacency Matrix Representation:\n",
      "[0, 1, 1, 0]\n",
      "[1, 0, 1, 0]\n",
      "[1, 1, 0, 1]\n",
      "[0, 0, 1, 0]\n"
     ]
    }
   ],
   "source": [
    "# Adjacency Matrix Representation\n",
    "class GraphAdjMatrix:\n",
    "    def __init__(self, vertices):\n",
    "        self.V = vertices\n",
    "        self.matrix = [[0] * vertices for _ in range(vertices)]\n",
    "\n",
    "    def add_edge(self, u, v, weight=1, directed=False):\n",
    "        self.matrix[u][v] = weight\n",
    "        if not directed:\n",
    "            self.matrix[v][u] = weight\n",
    "\n",
    "    def __str__(self):\n",
    "        return '\\n'.join(str(row) for row in self.matrix)\n",
    "\n",
    "# Example\n",
    "gm = GraphAdjMatrix(4)\n",
    "gm.add_edge(0, 1)\n",
    "gm.add_edge(0, 2)\n",
    "gm.add_edge(1, 2)\n",
    "gm.add_edge(2, 3)\n",
    "print(\"Adjacency Matrix Representation:\")\n",
    "print(gm)"
   ]
  },
  {
   "cell_type": "markdown",
   "id": "24734680",
   "metadata": {},
   "source": [
    "## Graph Traversals\n",
    "\n",
    "### Breadth-First Search (BFS)\n",
    "- Explores neighbors level by level.\n",
    "- Uses a queue.\n",
    "- Time complexity: O(V + E).\n",
    "\n",
    "### Depth-First Search (DFS)\n",
    "- Explores as far along a branch as possible before backtracking.\n",
    "- Uses recursion or a stack.\n",
    "- Time complexity: O(V + E)."
   ]
  },
  {
   "cell_type": "code",
   "execution_count": null,
   "id": "11c79aed",
   "metadata": {},
   "outputs": [
    {
     "name": "stdout",
     "output_type": "stream",
     "text": [
      "BFS Order: [0, 1, 4, 2, 3]\n"
     ]
    }
   ],
   "source": [
    "# BFS Implementation\n",
    "from collections import deque\n",
    "\n",
    "def bfs(graph, start):\n",
    "    visited = set()\n",
    "    order = []\n",
    "    queue = deque([start])\n",
    "    visited.add(start)\n",
    "\n",
    "    while queue:\n",
    "        v = queue.popleft()\n",
    "        order.append(v)\n",
    "        for neighbor in graph.adj[v]:\n",
    "            if neighbor not in visited:\n",
    "                visited.add(neighbor)\n",
    "                queue.append(neighbor)\n",
    "    return order\n",
    "\n",
    "print(\"BFS Order:\", bfs(g, 0))"
   ]
  },
  {
   "cell_type": "code",
   "execution_count": 4,
   "id": "a97bcd9c",
   "metadata": {},
   "outputs": [
    {
     "name": "stdout",
     "output_type": "stream",
     "text": [
      "DFS Order: [0, 1, 2, 3, 4]\n"
     ]
    }
   ],
   "source": [
    "# DFS Implementation\n",
    "\n",
    "def dfs(graph, start, visited=None, order=None):\n",
    "    if visited is None:\n",
    "        visited = set()\n",
    "    if order is None:\n",
    "        order = []\n",
    "\n",
    "    visited.add(start)\n",
    "    order.append(start)\n",
    "    for neighbor in graph.adj[start]:\n",
    "        if neighbor not in visited:\n",
    "            dfs(graph, neighbor, visited, order)\n",
    "    return order\n",
    "\n",
    "print(\"DFS Order:\", dfs(g, 0))"
   ]
  },
  {
   "cell_type": "markdown",
   "id": "89abe236",
   "metadata": {},
   "source": [
    "## Summary\n",
    "\n",
    "- **Graphs** are versatile structures for representing networks.\n",
    "- **Representations**: Adjacency list (sparse-friendly) and adjacency matrix (dense-friendly).\n",
    "- **Traversals**: BFS (queue-based) and DFS (stack/recursion-based).\n",
    "\n",
    "Next up: **07 - Sorting Algorithms**. Ready to continue? 🚀"
   ]
  }
 ],
 "metadata": {
  "kernelspec": {
   "display_name": "Python 3",
   "language": "python",
   "name": "python3"
  },
  "language_info": {
   "codemirror_mode": {
    "name": "ipython",
    "version": 3
   },
   "file_extension": ".py",
   "mimetype": "text/x-python",
   "name": "python",
   "nbconvert_exporter": "python",
   "pygments_lexer": "ipython3",
   "version": "3.13.3"
  }
 },
 "nbformat": 4,
 "nbformat_minor": 5
}
