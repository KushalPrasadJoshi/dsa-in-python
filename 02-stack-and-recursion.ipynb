{
 "cells": [
  {
   "cell_type": "markdown",
   "id": "42558e00",
   "metadata": {},
   "source": [
    "# 02 - Stack and Recursion\n",
    "\n",
    "Welcome to the second notebook in our `dsa-in-python` series! In this notebook, we'll cover:\n",
    "\n",
    "- **Stacks**: Definition, operations, and implementation in Python.\n",
    "- **Recursion**: Concept, how it works in Python, and examples.\n",
    "\n",
    "Let's get started!"
   ]
  },
  {
   "cell_type": "markdown",
   "id": "cbcd8ed1",
   "metadata": {},
   "source": [
    "## Part 1: Stacks\n",
    "\n",
    "**Definition**: A stack is a linear data structure that follows the Last-In-First-Out (LIFO) principle.\n",
    "\n",
    "### Operations\n",
    "\n",
    "| Operation | Description                           | Time Complexity |\n",
    "|-----------|---------------------------------------|-----------------|\n",
    "| `push(x)` | Add element `x` to the top of the stack | O(1)            |\n",
    "| `pop()`   | Remove and return the top element     | O(1)            |\n",
    "| `peek()`  | Return the top element without removing it | O(1)        |\n",
    "| `is_empty()` | Check if the stack is empty        | O(1)            |\n",
    "| `is_full()` | Check if the stack is full         | O(1)            |\n",
    "| `size()`  | Return the number of elements        | O(1)            |"
   ]
  },
  {
   "cell_type": "markdown",
   "id": "16f0d3fc",
   "metadata": {},
   "source": [
    "### Implementing a Stack in Python\n",
    "\n",
    "We'll use a Python list to implement the stack internally."
   ]
  },
  {
   "cell_type": "code",
   "execution_count": 2,
   "id": "88344ad9",
   "metadata": {},
   "outputs": [
    {
     "name": "stdout",
     "output_type": "stream",
     "text": [
      "Is stack empty? True\n",
      "Top element (peek): 30\n",
      "Stack size: 3\n",
      "Pop element: 30\n",
      "Stack after pop, size: 2\n"
     ]
    }
   ],
   "source": [
    "# Stack implementation in Python - Unbounded Stack\n",
    "class Stack:\n",
    "    \"\"\"\n",
    "    Stack data structure implemented using a Python list.\n",
    "    \"\"\"\n",
    "    def __init__(self):\n",
    "        self._items = []\n",
    "\n",
    "    def push(self, item):\n",
    "        \"\"\"Add an item to the top of the stack.\"\"\"\n",
    "        self._items.append(item)\n",
    "\n",
    "    def pop(self):\n",
    "        \"\"\"Remove and return the top item. Raises IndexError if empty.\"\"\"\n",
    "        if self.is_empty():\n",
    "            raise IndexError(\"pop from empty stack\")\n",
    "        return self._items.pop()\n",
    "\n",
    "    def peek(self):\n",
    "        \"\"\"Return the top item without removing it. Raises IndexError if empty.\"\"\"\n",
    "        if self.is_empty():\n",
    "            raise IndexError(\"peek from empty stack\")\n",
    "        return self._items[-1]\n",
    "\n",
    "    def is_empty(self):\n",
    "        \"\"\"Return True if the stack is empty, else False.\"\"\"\n",
    "        return len(self._items) == 0\n",
    "\n",
    "    def size(self):\n",
    "        \"\"\"Return the number of items in the stack.\"\"\"\n",
    "        return len(self._items)\n",
    "\n",
    "# Example usage\n",
    "if __name__ == \"__main__\":\n",
    "    stack = Stack()\n",
    "    print(\"Is stack empty?\", stack.is_empty())\n",
    "    stack.push(10)\n",
    "    stack.push(20)\n",
    "    stack.push(30)\n",
    "    print(\"Top element (peek):\", stack.peek())\n",
    "    print(\"Stack size:\", stack.size())\n",
    "    print(\"Pop element:\", stack.pop())\n",
    "    print(\"Stack after pop, size:\", stack.size())"
   ]
  },
  {
   "cell_type": "code",
   "execution_count": 5,
   "id": "deaaa77e",
   "metadata": {},
   "outputs": [
    {
     "name": "stdout",
     "output_type": "stream",
     "text": [
      "Is stack full? False\n",
      "Is stack full? True\n",
      "Stack is full\n"
     ]
    }
   ],
   "source": [
    "# Stack implementation in Python - Bounded Stack\n",
    "class Stack:\n",
    "    \"\"\"\n",
    "    Stack data structure implemented using a Python list with a fixed size.\n",
    "    \"\"\"\n",
    "    def __init__(self, max_size: int):\n",
    "        \"\"\"Initialize the stack with a maximum size.\"\"\"\n",
    "        self._items = []\n",
    "        self._max_size = max_size\n",
    "\n",
    "    def push(self, item):\n",
    "        \"\"\"Add an item to the top of the stack.\"\"\"\n",
    "        if self.is_full():\n",
    "            raise OverflowError(\"Stack is full\")\n",
    "        self._items.append(item)\n",
    "\n",
    "    def pop(self):\n",
    "        \"\"\"Remove and return the top item. Raises IndexError if empty.\"\"\"\n",
    "        if self.is_empty():\n",
    "            raise IndexError(\"pop from empty stack\")\n",
    "        return self._items.pop()\n",
    "\n",
    "    def peek(self):\n",
    "        \"\"\"Return the top item without removing it. Raises IndexError if empty.\"\"\"\n",
    "        if self.is_empty():\n",
    "            raise IndexError(\"peek from empty stack\")\n",
    "        return self._items[-1]\n",
    "\n",
    "    def is_empty(self):\n",
    "        \"\"\"Return True if the stack is empty, else False.\"\"\"\n",
    "        return len(self._items) == 0\n",
    "\n",
    "    def is_full(self):\n",
    "        \"\"\"Return True if the stack is full, else False.\"\"\"\n",
    "        return len(self._items) == self._max_size\n",
    "\n",
    "    def size(self):\n",
    "        \"\"\"Return the number of items in the stack.\"\"\"\n",
    "        return len(self._items)\n",
    "\n",
    "# Example usage\n",
    "if __name__ == \"__main__\":\n",
    "    stack = Stack(max_size=3)\n",
    "    print(\"Is stack full?\", stack.is_full())\n",
    "    stack.push(10)\n",
    "    stack.push(20)\n",
    "    stack.push(30)\n",
    "    print(\"Is stack full?\", stack.is_full())\n",
    "    try:\n",
    "        stack.push(40)  # Will raise OverflowError\n",
    "    except OverflowError as e:\n",
    "        print(e)\n"
   ]
  },
  {
   "cell_type": "markdown",
   "id": "fcb30e00",
   "metadata": {},
   "source": [
    "## Part 2: Recursion\n",
    "\n",
    "**Definition**: Recursion is a programming technique where a function calls itself to solve a smaller instance of the same problem.\n",
    "\n",
    "### Key Concepts\n",
    "\n",
    "- **Base Case**: The condition under which the recursion ends.\n",
    "- **Recursive Case**: The case where the function calls itself with a smaller or simpler input.\n",
    "- **Call Stack**: Mechanism that keeps track of active function calls."
   ]
  },
  {
   "cell_type": "markdown",
   "id": "3c942ba6",
   "metadata": {},
   "source": [
    "### Example 1: Factorial\n",
    "\n",
    "The factorial of `n` (denoted `n!`) is defined as:\n",
    "\n",
    "```\n",
    "0! = 1\n",
    "n! = n * (n-1)!  for n > 0\n",
    "```\n"
   ]
  },
  {
   "cell_type": "code",
   "execution_count": 6,
   "id": "340e0bca",
   "metadata": {},
   "outputs": [
    {
     "name": "stdout",
     "output_type": "stream",
     "text": [
      "5! = 120\n"
     ]
    }
   ],
   "source": [
    "def factorial(n):\n",
    "    \"\"\"\n",
    "    Recursively computes the factorial of n (n!).\n",
    "    \"\"\"\n",
    "    if n < 0:\n",
    "        raise ValueError(\"Factorial is not defined for negative numbers\")\n",
    "    if n == 0:\n",
    "        return 1\n",
    "    return n * factorial(n - 1)\n",
    "\n",
    "# Example usage\n",
    "print(\"5! =\", factorial(5))"
   ]
  },
  {
   "cell_type": "markdown",
   "id": "4d885e0e",
   "metadata": {},
   "source": [
    "### Example 2: Fibonacci Sequence\n",
    "\n",
    "The Fibonacci sequence is defined as:\n",
    "\n",
    "```\n",
    "F(0) = 0\n",
    "F(1) = 1\n",
    "F(n) = F(n-1) + F(n-2)  for n > 1\n",
    "```\n"
   ]
  },
  {
   "cell_type": "code",
   "execution_count": 7,
   "id": "32ef8cf2",
   "metadata": {},
   "outputs": [
    {
     "name": "stdout",
     "output_type": "stream",
     "text": [
      "Fibonacci(6) = 8\n"
     ]
    }
   ],
   "source": [
    "def fibonacci(n):\n",
    "    \"\"\"\n",
    "    Recursively computes the nth Fibonacci number.\n",
    "    \"\"\"\n",
    "    if n < 0:\n",
    "        raise ValueError(\"Fibonacci is not defined for negative numbers\")\n",
    "    if n <= 1:\n",
    "        return n\n",
    "    return fibonacci(n - 1) + fibonacci(n - 2)\n",
    "\n",
    "# Example usage\n",
    "print(\"Fibonacci(6) =\", fibonacci(6))"
   ]
  },
  {
   "cell_type": "markdown",
   "id": "996e86b1",
   "metadata": {},
   "source": [
    "## Connecting Stack and Recursion\n",
    "\n",
    "- Each recursive function call is placed on the call stack.\n",
    "- Understanding how stack operations work helps in visualizing recursion.\n",
    "- Deep recursion can lead to stack overflow if the call depth is too large."
   ]
  },
  {
   "cell_type": "markdown",
   "id": "9a639917",
   "metadata": {},
   "source": [
    "## Summary\n",
    "\n",
    "- **Stack**: LIFO data structure, basic operations (`push`, `pop`, `peek`, `is_empty`, `size`) all in O(1) time.\n",
    "- **Recursion**: Technique where functions call themselves, requiring a base and recursive case.\n",
    "- Recursion uses the call stack under the hood.\n",
    "\n",
    "Next up: **03 - Queue**. Ready to move on? 🚀"
   ]
  }
 ],
 "metadata": {
  "kernelspec": {
   "display_name": "Python 3",
   "language": "python",
   "name": "python3"
  },
  "language_info": {
   "codemirror_mode": {
    "name": "ipython",
    "version": 3
   },
   "file_extension": ".py",
   "mimetype": "text/x-python",
   "name": "python",
   "nbconvert_exporter": "python",
   "pygments_lexer": "ipython3",
   "version": "3.13.3"
  }
 },
 "nbformat": 4,
 "nbformat_minor": 5
}
