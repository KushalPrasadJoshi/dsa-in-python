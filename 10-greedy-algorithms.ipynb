{
 "cells": [
  {
   "cell_type": "markdown",
   "id": "bb8be297",
   "metadata": {},
   "source": [
    "# 10 - Greedy Algorithms\n",
    "\n",
    "Welcome to the tenth notebook in our `dsa-in-python` series! In this notebook, we'll cover:\n",
    "\n",
    "- **Greedy Algorithms**: Definition and when to use them.\n",
    "- **Classic Greedy Problems**:\n",
    "  - Coin Change (Minimum Coins)\n",
    "  - Activity Selection (Interval Scheduling)\n",
    "\n",
    "Let's dive into greedy strategies!"
   ]
  },
  {
   "cell_type": "markdown",
   "id": "501fd528",
   "metadata": {},
   "source": [
    "## What is a Greedy Algorithm?\n",
    "\n",
    "A **Greedy Algorithm** builds up a solution piece by piece, choosing the next piece with the **most apparent** benefit. It\n",
    "- Makes a **locally optimal** choice at each step,\n",
    "- Hoping to find a **global optimum**.\n",
    "\n",
    "Use Greedy when the problem exhibits:\n",
    "- **Greedy-choice property**: A global optimal solution can be arrived at by making locally optimal choices.\n",
    "- **Optimal substructure**: Optimal solution to the problem contains optimal solutions to subproblems."
   ]
  },
  {
   "cell_type": "markdown",
   "id": "18490842",
   "metadata": {},
   "source": [
    "## Example 1: Coin Change (Minimum Coins)\n",
    "\n",
    "**Problem**: Given a set of coin denominations and a target amount, find the minimum number of coins needed to make that amount. Assume infinite supply of each coin."
   ]
  },
  {
   "cell_type": "code",
   "execution_count": null,
   "id": "ad209deb",
   "metadata": {},
   "outputs": [
    {
     "name": "stdout",
     "output_type": "stream",
     "text": [
      "Minimum coins needed: 6\n",
      "Coins used: [(25, 2), (10, 1), (1, 3)]\n"
     ]
    }
   ],
   "source": [
    "def min_coins_greedy(coins, amount):\n",
    "    \"\"\"\n",
    "    Greedy approach: always pick the largest coin denomination \n",
    "    not exceeding the remaining amount.\n",
    "    \"\"\"\n",
    "    coins.sort(reverse=True)\n",
    "    count = 0\n",
    "    used = []\n",
    "    for coin in coins:\n",
    "        if amount <= 0:\n",
    "            break\n",
    "        take = amount // coin\n",
    "        if take:\n",
    "            count += take\n",
    "            used.append((coin, take))\n",
    "            amount -= coin * take\n",
    "    if amount != 0:\n",
    "        return -1, []  # Not possible with given denominations\n",
    "    return count, used\n",
    "\n",
    "# Example usage\n",
    "coins = [1, 5, 10, 25]\n",
    "amount = 63\n",
    "count, used = min_coins_greedy(coins, amount)\n",
    "print(f\"Minimum coins needed: {count}\")\n",
    "print(\"Coins used:\", used)"
   ]
  },
  {
   "cell_type": "markdown",
   "id": "b19a35c2",
   "metadata": {},
   "source": [
    "> **Note**: Greedy works for canonical coin systems (like US coins), but may fail for arbitrary coin sets."
   ]
  },
  {
   "cell_type": "markdown",
   "id": "b2fd9ba6",
   "metadata": {},
   "source": [
    "## Example 2: Activity Selection (Interval Scheduling)\n",
    "\n",
    "**Problem**: Given start and end times of activities, select the maximum number of non-overlapping activities."
   ]
  },
  {
   "cell_type": "code",
   "execution_count": 2,
   "id": "c766a2e1",
   "metadata": {},
   "outputs": [
    {
     "name": "stdout",
     "output_type": "stream",
     "text": [
      "Selected activity indices: [0, 1, 3, 4]\n"
     ]
    }
   ],
   "source": [
    "def activity_selection(start_times, end_times):\n",
    "    \"\"\"\n",
    "    Greedy approach: select activities sorted by end time.\n",
    "    Returns list of selected activity indices.\n",
    "    \"\"\"\n",
    "    activities = list(zip(range(len(start_times)), start_times, end_times))\n",
    "    # Sort by earliest finish time\n",
    "    activities.sort(key=lambda x: x[2])\n",
    "    selected = []\n",
    "    last_end = -1\n",
    "    for idx, start, end in activities:\n",
    "        if start >= last_end:\n",
    "            selected.append(idx)\n",
    "            last_end = end\n",
    "    return selected\n",
    "\n",
    "# Example usage\n",
    "start = [1, 3, 0, 5, 8, 5]\n",
    "end =   [2, 4, 6, 7, 9, 9]\n",
    "sel = activity_selection(start, end)\n",
    "print(\"Selected activity indices:\", sel)"
   ]
  },
  {
   "cell_type": "markdown",
   "id": "79b162b0",
   "metadata": {},
   "source": [
    "## Summary\n",
    "\n",
    "- **Greedy algorithms** make the optimal local choice at each step.\n",
    "- Effective when problems have the **greedy-choice property** and **optimal substructure**.\n",
    "- Examples include coin change (canonical systems) and activity selection.\n",
    "\n",
    "Next up: **11 - Backtracking**. Ready to continue? 🚀"
   ]
  }
 ],
 "metadata": {
  "kernelspec": {
   "display_name": "Python 3",
   "language": "python",
   "name": "python3"
  },
  "language_info": {
   "codemirror_mode": {
    "name": "ipython",
    "version": 3
   },
   "file_extension": ".py",
   "mimetype": "text/x-python",
   "name": "python",
   "nbconvert_exporter": "python",
   "pygments_lexer": "ipython3",
   "version": "3.10.11"
  }
 },
 "nbformat": 4,
 "nbformat_minor": 5
}
