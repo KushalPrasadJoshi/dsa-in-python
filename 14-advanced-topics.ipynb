{
 "cells": [
  {
   "cell_type": "markdown",
   "id": "f272d01a",
   "metadata": {},
   "source": [
    "# 14 - Advanced Topics\n",
    "\n",
    "Welcome to the fourteenth notebook in our `dsa-in-python` series! In this notebook, we will discuss:\n",
    "\n",
    "- Disjoint Set Union (Union-Find)\n",
    "- Segment Trees\n",
    "- Trie (Prefix Tree)\n",
    "- Heaps and Priority Queues\n",
    "\n",
    "Let's dive into some more advanced DSA concepts! 🌟"
   ]
  },
  {
   "cell_type": "markdown",
   "id": "2c669c24",
   "metadata": {},
   "source": [
    "## Disjoint Set Union (DSU) / Union Find\n",
    "\n",
    "Used for solving problems related to **connected components**.\n",
    "\n",
    "Supports two main operations:\n",
    "- **Find**: Determine which subset a particular element is in.\n",
    "- **Union**: Join two subsets together."
   ]
  },
  {
   "cell_type": "code",
   "execution_count": 1,
   "id": "36c990d2",
   "metadata": {},
   "outputs": [
    {
     "name": "stdout",
     "output_type": "stream",
     "text": [
      "4\n"
     ]
    }
   ],
   "source": [
    "class DSU:\n",
    "    def __init__(self, n):\n",
    "        self.parent = list(range(n))\n",
    "    \n",
    "    def find(self, x):\n",
    "        if self.parent[x] != x:\n",
    "            self.parent[x] = self.find(self.parent[x])  # Path Compression\n",
    "        return self.parent[x]\n",
    "    \n",
    "    def union(self, x, y):\n",
    "        px = self.find(x)\n",
    "        py = self.find(y)\n",
    "        if px != py:\n",
    "            self.parent[py] = px\n",
    "\n",
    "# Example\n",
    "dsu = DSU(5)\n",
    "dsu.union(0, 2)\n",
    "dsu.union(4, 2)\n",
    "print(dsu.find(4))  # Should print the representative of the set"
   ]
  },
  {
   "cell_type": "markdown",
   "id": "3f6037b6",
   "metadata": {},
   "source": [
    "## Segment Tree\n",
    "\n",
    "A tree data structure used for efficient range queries and updates.\n",
    "\n",
    "- **Query**: Find the sum/min/max in a range.\n",
    "- **Update**: Update an element and propagate changes."
   ]
  },
  {
   "cell_type": "code",
   "execution_count": 2,
   "id": "6d3e4506",
   "metadata": {},
   "outputs": [
    {
     "name": "stdout",
     "output_type": "stream",
     "text": [
      "8\n"
     ]
    }
   ],
   "source": [
    "class SegmentTree:\n",
    "    def __init__(self, arr):\n",
    "        self.n = len(arr)\n",
    "        self.tree = [0] * (2 * self.n)\n",
    "        for i in range(self.n):\n",
    "            self.tree[self.n + i] = arr[i]\n",
    "        for i in range(self.n - 1, 0, -1):\n",
    "            self.tree[i] = self.tree[i << 1] + self.tree[i << 1 | 1]\n",
    "    \n",
    "    def update(self, pos, value):\n",
    "        pos += self.n\n",
    "        self.tree[pos] = value\n",
    "        while pos > 1:\n",
    "            pos >>= 1\n",
    "            self.tree[pos] = self.tree[pos << 1] + self.tree[pos << 1 | 1]\n",
    "    \n",
    "    def query(self, l, r):\n",
    "        res = 0\n",
    "        l += self.n\n",
    "        r += self.n\n",
    "        while l < r:\n",
    "            if l & 1:\n",
    "                res += self.tree[l]\n",
    "                l += 1\n",
    "            if r & 1:\n",
    "                r -= 1\n",
    "                res += self.tree[r]\n",
    "            l >>= 1\n",
    "            r >>= 1\n",
    "        return res\n",
    "\n",
    "# Example\n",
    "arr = [1, 3, 5, 7, 9, 11]\n",
    "st = SegmentTree(arr)\n",
    "print(st.query(1, 3))  # Output: 8 (3 + 5)"
   ]
  },
  {
   "cell_type": "markdown",
   "id": "b9a98235",
   "metadata": {},
   "source": [
    "## Trie (Prefix Tree)\n",
    "\n",
    "Specialized tree used to store associative data structures, mainly strings.\n",
    "\n",
    "- Insert words\n",
    "- Search words\n",
    "- Autocomplete systems"
   ]
  },
  {
   "cell_type": "code",
   "execution_count": 3,
   "id": "5be65e72",
   "metadata": {},
   "outputs": [
    {
     "name": "stdout",
     "output_type": "stream",
     "text": [
      "True\n",
      "False\n"
     ]
    }
   ],
   "source": [
    "class TrieNode:\n",
    "    def __init__(self):\n",
    "        self.children = {}\n",
    "        self.is_end_of_word = False\n",
    "\n",
    "class Trie:\n",
    "    def __init__(self):\n",
    "        self.root = TrieNode()\n",
    "\n",
    "    def insert(self, word):\n",
    "        node = self.root\n",
    "        for char in word:\n",
    "            if char not in node.children:\n",
    "                node.children[char] = TrieNode()\n",
    "            node = node.children[char]\n",
    "        node.is_end_of_word = True\n",
    "\n",
    "    def search(self, word):\n",
    "        node = self.root\n",
    "        for char in word:\n",
    "            if char not in node.children:\n",
    "                return False\n",
    "            node = node.children[char]\n",
    "        return node.is_end_of_word\n",
    "\n",
    "# Example\n",
    "trie = Trie()\n",
    "trie.insert('hello')\n",
    "print(trie.search('hello'))  # True\n",
    "print(trie.search('hell'))   # False"
   ]
  },
  {
   "cell_type": "markdown",
   "id": "66d35b2e",
   "metadata": {},
   "source": [
    "## Heaps and Priority Queues\n",
    "\n",
    "- Heaps are tree-based structures satisfying the heap property.\n",
    "- **Min Heap**: Parent is smaller than children.\n",
    "- **Max Heap**: Parent is larger than children.\n",
    "\n",
    "Python provides a `heapq` library to work with heaps."
   ]
  },
  {
   "cell_type": "code",
   "execution_count": 4,
   "id": "6cc83678",
   "metadata": {},
   "outputs": [
    {
     "name": "stdout",
     "output_type": "stream",
     "text": [
      "1\n",
      "3\n"
     ]
    }
   ],
   "source": [
    "import heapq\n",
    "\n",
    "# Min Heap\n",
    "heap = []\n",
    "heapq.heappush(heap, 3)\n",
    "heapq.heappush(heap, 1)\n",
    "heapq.heappush(heap, 2)\n",
    "print(heapq.heappop(heap))  # 1 (smallest element)\n",
    "\n",
    "# Max Heap\n",
    "heap = []\n",
    "heapq.heappush(heap, -3)\n",
    "heapq.heappush(heap, -1)\n",
    "heapq.heappush(heap, -2)\n",
    "print(-heapq.heappop(heap))  # 3 (largest element)"
   ]
  },
  {
   "cell_type": "markdown",
   "id": "3cc9ddd6",
   "metadata": {},
   "source": [
    "## Summary\n",
    "\n",
    "- DSU is useful for connected components problems.\n",
    "- Segment Trees handle range queries and updates efficiently.\n",
    "- Tries are perfect for string problems.\n",
    "- Heaps help implement priority queues.\n",
    "\n",
    "Now get ready for the final chapter: **15 - Problem Solving Techniques**! 🏆"
   ]
  }
 ],
 "metadata": {
  "kernelspec": {
   "display_name": "Python 3",
   "language": "python",
   "name": "python3"
  },
  "language_info": {
   "codemirror_mode": {
    "name": "ipython",
    "version": 3
   },
   "file_extension": ".py",
   "mimetype": "text/x-python",
   "name": "python",
   "nbconvert_exporter": "python",
   "pygments_lexer": "ipython3",
   "version": "3.10.11"
  }
 },
 "nbformat": 4,
 "nbformat_minor": 5
}
