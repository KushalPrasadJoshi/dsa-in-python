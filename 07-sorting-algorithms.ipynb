{
 "cells": [
  {
   "cell_type": "markdown",
   "id": "b4bc0185",
   "metadata": {},
   "source": [
    "# 07 - Sorting Algorithms\n",
    "\n",
    "Welcome to the seventh notebook in our `dsa-in-python` series! In this notebook, we'll cover:\n",
    "\n",
    "- Introduction to sorting and its importance\n",
    "- Common sorting algorithms:\n",
    "  - Bubble Sort\n",
    "  - Selection Sort\n",
    "  - Insertion Sort\n",
    "  - Merge Sort\n",
    "  - Quick Sort\n",
    "\n",
    "Let's dive into sorting!"
   ]
  },
  {
   "cell_type": "markdown",
   "id": "769b1fb2",
   "metadata": {},
   "source": [
    "## Why Sorting?\n",
    "\n",
    "- Sorting organizes data in a specific order (ascending/descending).\n",
    "- Essential for efficient searching (e.g., binary search) and data presentation.\n",
    "- Many algorithms rely on sorted data as a prerequisite."
   ]
  },
  {
   "cell_type": "markdown",
   "id": "129ce307",
   "metadata": {},
   "source": [
    "## Time and Space Complexities\n",
    "\n",
    "| Algorithm       | Best Case   | Average Case | Worst Case  | Space Complexity |\n",
    "|-----------------|-------------|--------------|-------------|------------------|\n",
    "| Bubble Sort     | O(n)        | O(n²)        | O(n²)       | O(1)             |\n",
    "| Selection Sort  | O(n²)       | O(n²)        | O(n²)       | O(1)             |\n",
    "| Insertion Sort  | O(n)        | O(n²)        | O(n²)       | O(1)             |\n",
    "| Merge Sort      | O(n log n)  | O(n log n)   | O(n log n)  | O(n)             |\n",
    "| Quick Sort      | O(n log n)  | O(n log n)   | O(n²)       | O(log n)         |"
   ]
  },
  {
   "cell_type": "markdown",
   "id": "d83f6039",
   "metadata": {},
   "source": [
    "## Bubble Sort\n",
    "\n",
    "Bubble Sort repeatedly steps through the list, compares adjacent elements and swaps them if they are in the wrong order."
   ]
  },
  {
   "cell_type": "code",
   "execution_count": 1,
   "id": "1f9cd953",
   "metadata": {},
   "outputs": [
    {
     "name": "stdout",
     "output_type": "stream",
     "text": [
      "[11, 12, 22, 25, 34, 64, 90]\n"
     ]
    }
   ],
   "source": [
    "def bubble_sort(arr):\n",
    "    n = len(arr)\n",
    "    for i in range(n):\n",
    "        swapped = False\n",
    "        for j in range(0, n - i - 1):\n",
    "            if arr[j] > arr[j + 1]:\n",
    "                arr[j], arr[j + 1] = arr[j + 1], arr[j]\n",
    "                swapped = True\n",
    "        if not swapped:\n",
    "            break\n",
    "    return arr\n",
    "\n",
    "# Example usage\n",
    "print(bubble_sort([64, 34, 25, 12, 22, 11, 90]))"
   ]
  },
  {
   "cell_type": "markdown",
   "id": "ff9315ad",
   "metadata": {},
   "source": [
    "## Selection Sort\n",
    "\n",
    "Selection Sort divides the list into sorted and unsorted parts, repeatedly selecting the minimum from unsorted and moving it to sorted."
   ]
  },
  {
   "cell_type": "code",
   "execution_count": 2,
   "id": "57b11efc",
   "metadata": {},
   "outputs": [
    {
     "name": "stdout",
     "output_type": "stream",
     "text": [
      "[11, 12, 22, 25, 64]\n"
     ]
    }
   ],
   "source": [
    "def selection_sort(arr):\n",
    "    n = len(arr)\n",
    "    for i in range(n):\n",
    "        min_idx = i\n",
    "        for j in range(i + 1, n):\n",
    "            if arr[j] < arr[min_idx]:\n",
    "                min_idx = j\n",
    "        arr[i], arr[min_idx] = arr[min_idx], arr[i]\n",
    "    return arr\n",
    "\n",
    "# Example usage\n",
    "print(selection_sort([64, 25, 12, 22, 11]))"
   ]
  },
  {
   "cell_type": "markdown",
   "id": "e0c620e5",
   "metadata": {},
   "source": [
    "## Insertion Sort\n",
    "\n",
    "Insertion Sort builds the sorted array one element at a time by inserting the current element into its correct position."
   ]
  },
  {
   "cell_type": "code",
   "execution_count": 3,
   "id": "7916c7ef",
   "metadata": {},
   "outputs": [
    {
     "name": "stdout",
     "output_type": "stream",
     "text": [
      "[5, 6, 11, 12, 13]\n"
     ]
    }
   ],
   "source": [
    "def insertion_sort(arr):\n",
    "    for i in range(1, len(arr)):\n",
    "        key = arr[i]\n",
    "        j = i - 1\n",
    "        while j >= 0 and arr[j] > key:\n",
    "            arr[j + 1] = arr[j]\n",
    "            j -= 1\n",
    "        arr[j + 1] = key\n",
    "    return arr\n",
    "\n",
    "# Example usage\n",
    "print(insertion_sort([12, 11, 13, 5, 6]))"
   ]
  },
  {
   "cell_type": "markdown",
   "id": "eff6ace4",
   "metadata": {},
   "source": [
    "## Merge Sort\n",
    "\n",
    "Merge Sort is a divide-and-conquer algorithm that divides the list into halves, sorts each half, and merges them."
   ]
  },
  {
   "cell_type": "code",
   "execution_count": 5,
   "id": "b5d57abf",
   "metadata": {},
   "outputs": [
    {
     "name": "stdout",
     "output_type": "stream",
     "text": [
      "[5, 6, 7, 11, 12, 13]\n"
     ]
    }
   ],
   "source": [
    "def merge_sort(arr):\n",
    "    if len(arr) <= 1:\n",
    "        return arr\n",
    "    mid = len(arr) // 2\n",
    "    left = merge_sort(arr[:mid])\n",
    "    right = merge_sort(arr[mid:])\n",
    "    return merge(left, right)\n",
    "\n",
    "\n",
    "def merge(left, right):\n",
    "    merged = []\n",
    "    i = j = 0\n",
    "    while i < len(left) and j < len(right):\n",
    "        if left[i] < right[j]:\n",
    "            merged.append(left[i])\n",
    "            i += 1\n",
    "        else:\n",
    "            merged.append(right[j])\n",
    "            j += 1\n",
    "    merged.extend(left[i:])\n",
    "    merged.extend(right[j:])\n",
    "    return merged\n",
    "\n",
    "# Example usage\n",
    "print(merge_sort([12, 11, 13, 5, 6, 7]))"
   ]
  },
  {
   "cell_type": "markdown",
   "id": "87454c22",
   "metadata": {},
   "source": [
    "## Quick Sort\n",
    "\n",
    "Quick Sort is a divide-and-conquer algorithm that picks a pivot, partitions the array around the pivot, and recursively sorts partitions."
   ]
  },
  {
   "cell_type": "code",
   "execution_count": 6,
   "id": "8d6123c7",
   "metadata": {},
   "outputs": [
    {
     "name": "stdout",
     "output_type": "stream",
     "text": [
      "[1, 1, 2, 3, 6, 8, 10]\n"
     ]
    }
   ],
   "source": [
    "def quick_sort(arr):\n",
    "    if len(arr) <= 1:\n",
    "        return arr\n",
    "    pivot = arr[len(arr) // 2]\n",
    "    left = [x for x in arr if x < pivot]\n",
    "    middle = [x for x in arr if x == pivot]\n",
    "    right = [x for x in arr if x > pivot]\n",
    "    return quick_sort(left) + middle + quick_sort(right)\n",
    "\n",
    "# Example usage\n",
    "print(quick_sort([3, 6, 8, 10, 1, 2, 1]))"
   ]
  },
  {
   "cell_type": "markdown",
   "id": "653cf96a",
   "metadata": {},
   "source": [
    "## Summary\n",
    "\n",
    "- **Bubble Sort, Selection Sort, Insertion Sort**: Simple but inefficient for large datasets (O(n²)).\n",
    "- **Merge Sort, Quick Sort**: Efficient divide-and-conquer algorithms (average O(n log n)).\n",
    "- Choose sorting algorithm based on data size, stability, and space constraints.\n",
    "\n",
    "Next up: **08 - Searching Algorithms**. Ready? 🚀"
   ]
  }
 ],
 "metadata": {
  "kernelspec": {
   "display_name": "Python 3",
   "language": "python",
   "name": "python3"
  },
  "language_info": {
   "codemirror_mode": {
    "name": "ipython",
    "version": 3
   },
   "file_extension": ".py",
   "mimetype": "text/x-python",
   "name": "python",
   "nbconvert_exporter": "python",
   "pygments_lexer": "ipython3",
   "version": "3.13.3"
  }
 },
 "nbformat": 4,
 "nbformat_minor": 5
}
