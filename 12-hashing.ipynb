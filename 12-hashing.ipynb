{
 "cells": [
  {
   "cell_type": "markdown",
   "id": "e707c516",
   "metadata": {},
   "source": [
    "# 12 - Hashing\n",
    "\n",
    "Welcome to the twelfth notebook in our `dsa-in-python` series! In this notebook, we will learn about:\n",
    "\n",
    "- What is Hashing?\n",
    "- Hash Functions\n",
    "- Collision Handling\n",
    "- Python Dictionary Internals\n",
    "- Applications of Hashing\n",
    "\n",
    "Let's dive into this powerful concept!"
   ]
  },
  {
   "cell_type": "markdown",
   "id": "54cbaf6f",
   "metadata": {},
   "source": [
    "## What is Hashing?\n",
    "\n",
    "**Hashing** is a technique used to map data of arbitrary size to fixed-size values, usually for fast access, insertion, and deletion.\n",
    "\n",
    "A **hash function** takes an input and returns an integer called the **hash code** or **hash value**."
   ]
  },
  {
   "cell_type": "markdown",
   "id": "44a733cf",
   "metadata": {},
   "source": [
    "## Properties of a Good Hash Function\n",
    "\n",
    "- **Deterministic**: Same input always gives the same output.\n",
    "- **Uniform distribution**: Spread keys uniformly to avoid clustering.\n",
    "- **Efficient**: Should compute quickly.\n",
    "- **Minimize collisions**: Different inputs should have different outputs whenever possible."
   ]
  },
  {
   "cell_type": "markdown",
   "id": "c05d2e33",
   "metadata": {},
   "source": [
    "## Collision Handling Techniques\n",
    "\n",
    "Sometimes different inputs produce the same hash value (called a **collision**). Strategies to handle this:\n",
    "\n",
    "- **Chaining**: Maintain a linked list of elements at each bucket.\n",
    "- **Open Addressing**: Find another empty bucket (e.g., linear probing, quadratic probing)."
   ]
  },
  {
   "cell_type": "markdown",
   "id": "7811e13e",
   "metadata": {},
   "source": [
    "## Hashing in Python\n",
    "\n",
    "Python’s `dict` and `set` are implemented using **hash tables** internally.\n",
    "\n",
    "- The key’s hash value is computed.\n",
    "- The hash is used to find the correct index in the internal array.\n",
    "- Handles collisions using **open addressing** (with probing)."
   ]
  },
  {
   "cell_type": "code",
   "execution_count": 3,
   "id": "bba69c17",
   "metadata": {},
   "outputs": [
    {
     "name": "stdout",
     "output_type": "stream",
     "text": [
      "1\n"
     ]
    }
   ],
   "source": [
    "# Simple demonstration\n",
    "my_dict = {'apple': 1, 'banana': 2, 'cherry': 3}\n",
    "\n",
    "print(my_dict['apple'])  # Access is O(1) on average\n",
    "\n",
    "# Under the hood, Python computes hash('apple') to find location."
   ]
  },
  {
   "cell_type": "markdown",
   "id": "1a2d8143",
   "metadata": {},
   "source": [
    "## Example: Custom Hash Table Implementation"
   ]
  },
  {
   "cell_type": "code",
   "execution_count": 1,
   "id": "e3f564dd",
   "metadata": {},
   "outputs": [],
   "source": [
    "class HashTable:\n",
    "    def __init__(self, size=10):\n",
    "        self.size = size\n",
    "        self.table = [[] for _ in range(size)]\n",
    "\n",
    "    def hash_function(self, key):\n",
    "        return hash(key) % self.size\n",
    "\n",
    "    def insert(self, key, value):\n",
    "        idx = self.hash_function(key)\n",
    "        for pair in self.table[idx]:\n",
    "            if pair[0] == key:\n",
    "                pair[1] = value\n",
    "                return\n",
    "        self.table[idx].append([key, value])\n",
    "\n",
    "    def search(self, key):\n",
    "        idx = self.hash_function(key)\n",
    "        for pair in self.table[idx]:\n",
    "            if pair[0] == key:\n",
    "                return pair[1]\n",
    "        return None\n",
    "\n",
    "    def delete(self, key):\n",
    "        idx = self.hash_function(key)\n",
    "        for i, pair in enumerate(self.table[idx]):\n",
    "            if pair[0] == key:\n",
    "                self.table[idx].pop(i)\n",
    "                return True\n",
    "        return False"
   ]
  },
  {
   "cell_type": "code",
   "execution_count": 2,
   "id": "f323caf4",
   "metadata": {},
   "outputs": [
    {
     "name": "stdout",
     "output_type": "stream",
     "text": [
      "10\n",
      "None\n"
     ]
    }
   ],
   "source": [
    "# Example usage\n",
    "h = HashTable()\n",
    "h.insert('apple', 10)\n",
    "h.insert('banana', 20)\n",
    "\n",
    "print(h.search('apple'))  # Output: 10\n",
    "h.delete('apple')\n",
    "print(h.search('apple'))  # Output: None"
   ]
  },
  {
   "cell_type": "markdown",
   "id": "862f8cd2",
   "metadata": {},
   "source": [
    "## Applications of Hashing\n",
    "\n",
    "- Database indexing\n",
    "- Caching (memoization)\n",
    "- Cryptography (SHA-256, MD5)\n",
    "- Load balancing\n",
    "- Data deduplication"
   ]
  },
  {
   "cell_type": "markdown",
   "id": "597dd523",
   "metadata": {},
   "source": [
    "## Summary\n",
    "\n",
    "- Hashing provides **fast data retrieval**.\n",
    "- Python dictionaries and sets use hash tables.\n",
    "- Collisions are handled using chaining or open addressing.\n",
    "\n",
    "Next up: **13 - Bit Manipulation**! ⚡️ Let's go!"
   ]
  }
 ],
 "metadata": {
  "kernelspec": {
   "display_name": "Python 3",
   "language": "python",
   "name": "python3"
  },
  "language_info": {
   "codemirror_mode": {
    "name": "ipython",
    "version": 3
   },
   "file_extension": ".py",
   "mimetype": "text/x-python",
   "name": "python",
   "nbconvert_exporter": "python",
   "pygments_lexer": "ipython3",
   "version": "3.10.11"
  }
 },
 "nbformat": 4,
 "nbformat_minor": 5
}
