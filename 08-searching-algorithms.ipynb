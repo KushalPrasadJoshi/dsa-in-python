{
 "cells": [
  {
   "cell_type": "markdown",
   "id": "ea7d9f04",
   "metadata": {},
   "source": [
    "# 08 - Searching Algorithms\n",
    "\n",
    "Welcome to the eighth notebook in our `dsa-in-python` series! In this notebook, we'll cover:\n",
    "\n",
    "- **Linear Search**\n",
    "- **Binary Search** (iterative and recursive)\n",
    "- **Other Search Techniques** (optional)\n",
    "\n",
    "Let's explore searching algorithms!"
   ]
  },
  {
   "cell_type": "markdown",
   "id": "f903b0f1",
   "metadata": {},
   "source": [
    "## Why Searching?\n",
    "\n",
    "- Searching is fundamental to find elements in datasets.\n",
    "- Different algorithms offer trade-offs between simplicity and efficiency.\n",
    "- Choice of algorithm depends on data characteristics (e.g., sorted vs unsorted)."
   ]
  },
  {
   "cell_type": "markdown",
   "id": "525317cf",
   "metadata": {},
   "source": [
    "## Time Complexities\n",
    "\n",
    "| Algorithm        | Best Case | Average Case | Worst Case  | Space Complexity |\n",
    "|------------------|-----------|--------------|-------------|------------------|\n",
    "| Linear Search    | O(1)      | O(n)         | O(n)        | O(1)             |\n",
    "| Binary Search    | O(1)      | O(log n)     | O(log n)    | O(1)             |\n",
    "| Interpolation    | O(log log n) | O(log log n) | O(n)   | O(1)             |"
   ]
  },
  {
   "cell_type": "markdown",
   "id": "75c1b430",
   "metadata": {},
   "source": [
    "## Linear Search\n",
    "\n",
    "**Definition**: Sequentially checks each element until a match is found or the list ends.\n",
    "\n",
    "### Python Implementation:"
   ]
  },
  {
   "cell_type": "code",
   "execution_count": null,
   "id": "fb0c3fed",
   "metadata": {},
   "outputs": [
    {
     "name": "stdout",
     "output_type": "stream",
     "text": [
      "Linear Search for 5: 2\n",
      "Linear Search for 6: -1\n"
     ]
    }
   ],
   "source": [
    "# Linear Search Implementation\n",
    "def linear_search(arr, target):\n",
    "    \"\"\"\n",
    "    Returns the index of target in arr if found, else -1.\n",
    "    \"\"\"\n",
    "    for index, value in enumerate(arr):\n",
    "        if value == target:\n",
    "            return index\n",
    "    return -1\n",
    "\n",
    "# Example usage\n",
    "nums = [4, 2, 5, 1, 3]\n",
    "print(\"Linear Search for 5:\", linear_search(nums, 5))  # Output: 2\n",
    "print(\"Linear Search for 6:\", linear_search(nums, 6))  # Output: -1"
   ]
  },
  {
   "cell_type": "markdown",
   "id": "84c5bbc6",
   "metadata": {},
   "source": [
    "## Binary Search\n",
    "\n",
    "**Definition**: Efficient search on sorted arrays by dividing the search interval in half.\n",
    "\n",
    "### Iterative Implementation:"
   ]
  },
  {
   "cell_type": "code",
   "execution_count": null,
   "id": "ef3aedb6",
   "metadata": {},
   "outputs": [
    {
     "name": "stdout",
     "output_type": "stream",
     "text": [
      "Binary Search Iterative for 4: 3\n"
     ]
    }
   ],
   "source": [
    "# Binary Search Implementation (Iterative)\n",
    "def binary_search_iterative(arr, target):\n",
    "    \"\"\"\n",
    "    Returns the index of target in sorted arr if found, else -1.\n",
    "    \"\"\"\n",
    "    left, right = 0, len(arr) - 1\n",
    "    while left <= right:\n",
    "        mid = (left + right) // 2\n",
    "        if arr[mid] == target:\n",
    "            return mid\n",
    "        elif arr[mid] < target:\n",
    "            left = mid + 1\n",
    "        else:\n",
    "            right = mid - 1\n",
    "    return -1\n",
    "\n",
    "# Example usage\n",
    "sorted_nums = [1, 2, 3, 4, 5, 6]\n",
    "print(\"Binary Search Iterative for 4:\", binary_search_iterative(sorted_nums, 4))"
   ]
  },
  {
   "cell_type": "markdown",
   "id": "c7960fdf",
   "metadata": {},
   "source": [
    "### Recursive Implementation:"
   ]
  },
  {
   "cell_type": "code",
   "execution_count": null,
   "id": "75bc64b9",
   "metadata": {},
   "outputs": [
    {
     "name": "stdout",
     "output_type": "stream",
     "text": [
      "Binary Search Recursive for 1: 0\n"
     ]
    }
   ],
   "source": [
    "# Binary Search Implementation (Recursive)\n",
    "def binary_search_recursive(arr, target, left=0, right=None):\n",
    "    \"\"\"\n",
    "    Returns the index of target in sorted arr using recursion, else -1.\n",
    "    \"\"\"\n",
    "    if right is None:\n",
    "        right = len(arr) - 1\n",
    "    if left > right:\n",
    "        return -1\n",
    "    mid = (left + right) // 2\n",
    "    if arr[mid] == target:\n",
    "        return mid\n",
    "    elif arr[mid] < target:\n",
    "        return binary_search_recursive(arr, target, mid + 1, right)\n",
    "    else:\n",
    "        return binary_search_recursive(arr, target, left, mid - 1)\n",
    "\n",
    "# Example usage\n",
    "print(\"Binary Search Recursive for 1:\", binary_search_recursive(sorted_nums, 1))"
   ]
  },
  {
   "cell_type": "markdown",
   "id": "6453124d",
   "metadata": {},
   "source": [
    "## Other Search Technique: Interpolation Search (Optional)\n",
    "\n",
    "**Definition**: Estimates position of the target based on value, good for uniformly distributed data."
   ]
  },
  {
   "cell_type": "code",
   "execution_count": null,
   "id": "39d8956a",
   "metadata": {},
   "outputs": [
    {
     "name": "stdout",
     "output_type": "stream",
     "text": [
      "Interpolation Search for 40: 3\n"
     ]
    }
   ],
   "source": [
    "# Interpolation Search Implementation\n",
    "def interpolation_search(arr, target):\n",
    "    \"\"\"\n",
    "    Returns index of target in sorted arr if found, else -1.\n",
    "    \"\"\"\n",
    "    low, high = 0, len(arr) - 1\n",
    "    while low <= high and arr[low] <= target <= arr[high]:\n",
    "        if low == high:\n",
    "            return low if arr[low] == target else -1\n",
    "        pos = low + ((target - arr[low]) * (high - low) // (arr[high] - arr[low]))\n",
    "        if arr[pos] == target:\n",
    "            return pos\n",
    "        if arr[pos] < target:\n",
    "            low = pos + 1\n",
    "        else:\n",
    "            high = pos - 1\n",
    "    return -1\n",
    "\n",
    "# Example usage\n",
    "uni = [10, 20, 30, 40, 50, 60]\n",
    "print(\"Interpolation Search for 40:\", interpolation_search(uni, 40))"
   ]
  },
  {
   "cell_type": "markdown",
   "id": "e018d357",
   "metadata": {},
   "source": [
    "## Summary\n",
    "\n",
    "- **Linear Search**: Simple, works on unsorted data, O(n).\n",
    "- **Binary Search**: Efficient on sorted data, O(log n), implementable iteratively or recursively.\n",
    "- **Interpolation Search**: Can be faster than binary search on uniformly distributed data, but worst-case O(n).\n",
    "\n",
    "Next up: **09 - Dynamic Programming**. Ready for more? 🚀"
   ]
  }
 ],
 "metadata": {
  "kernelspec": {
   "display_name": "Python 3",
   "language": "python",
   "name": "python3"
  },
  "language_info": {
   "codemirror_mode": {
    "name": "ipython",
    "version": 3
   },
   "file_extension": ".py",
   "mimetype": "text/x-python",
   "name": "python",
   "nbconvert_exporter": "python",
   "pygments_lexer": "ipython3",
   "version": "3.13.3"
  }
 },
 "nbformat": 4,
 "nbformat_minor": 5
}
