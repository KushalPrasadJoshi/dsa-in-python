{
 "cells": [
  {
   "cell_type": "markdown",
   "id": "dde9a121",
   "metadata": {},
   "source": [
    "# Linked List\n",
    "\n",
    "A linked list a data structure used for storing a collection of elements called *Nodes* where each Node consist of two parts:\n",
    "- **Data:** Actual element to be stored in the list.\n",
    "- **Pointer:** One or more links that points to the next or previous location.\n",
    "\n",
    "The linked list is a dynamic data structure. It shrinks and grows accordingly with the data."
   ]
  },
  {
   "cell_type": "markdown",
   "id": "7076298f",
   "metadata": {},
   "source": [
    "**Create a Linked List Data Structure.**"
   ]
  },
  {
   "cell_type": "code",
   "execution_count": 20,
   "id": "ca94b34b",
   "metadata": {},
   "outputs": [],
   "source": [
    "# Data Structure for Nodes of a Linked List\n",
    "class Node:\n",
    "    def __init__(self, value):\n",
    "        self.value = value\n",
    "        self.next = None\n",
    "\n",
    "# Data Structure for Linked List\n",
    "class LinkedList:\n",
    "    def __init__(self):\n",
    "        self.head = None\n",
    "\n",
    "    # Method to append a new node to the linked list\n",
    "    def append(self, value):\n",
    "        new_node = Node(value)\n",
    "        if not self.head:\n",
    "            self.head = new_node\n",
    "            return\n",
    "        current = self.head\n",
    "        while current.next:\n",
    "            current = current.next\n",
    "        current.next = new_node\n",
    "\n",
    "    # Method to insert a new node at the specified index\n",
    "    def insert(self, index, value):\n",
    "        if index < 0 or index > self.length():\n",
    "            raise IndexError('Index out of bounds')\n",
    "        \n",
    "        new_node = Node(value)\n",
    "        \n",
    "        # Insert at the begining\n",
    "        if index == 0:\n",
    "            new_node.next = self.head\n",
    "            self.head = new_node\n",
    "            print(value, 'inserted at index', index)\n",
    "            return\n",
    "        \n",
    "        current = self.head\n",
    "        for _ in range(index - 1):\n",
    "            if current is None:\n",
    "                raise IndexError('Index out of bounds')\n",
    "            current = current.next\n",
    "        new_node.next = current.next\n",
    "        current.next = new_node\n",
    "        print(value, 'inserted at index', index)\n",
    "\n",
    "    # Method to remove a node from the linked list\n",
    "    def remove(self, value):\n",
    "        if not self.head:\n",
    "            print('List is empty')\n",
    "            return False\n",
    "        if self.head.value == value:\n",
    "            self.head = self.head.next\n",
    "            print(value, 'removed')\n",
    "            return True\n",
    "        \n",
    "        current = self.head\n",
    "        while current.next:\n",
    "            if current.next.value == value:\n",
    "                current.next = current.next.next\n",
    "                print(value, 'removed')\n",
    "                return True\n",
    "            current = current.next\n",
    "\n",
    "        return False\n",
    "\n",
    "    # Method to dispaly the data in linked list\n",
    "    def display(self):\n",
    "        current = self.head\n",
    "        while current:\n",
    "            print(current.value, end=\" -> \")\n",
    "            current = current.next\n",
    "        print(\"None\")\n",
    "\n",
    "    # Method to get length of linked list\n",
    "    def length(self):\n",
    "        count = 0\n",
    "        current = self.head\n",
    "        while current:\n",
    "            count += 1\n",
    "            current = current.next\n",
    "        return count\n",
    "    \n",
    "    # Method to get the value at a specific index\n",
    "    def get(self, index):\n",
    "        if index < 0 or index >= self.length():\n",
    "            return None\n",
    "        current = self.head\n",
    "        for _ in range(index):\n",
    "            current = current.next\n",
    "        return current.value if current else None"
   ]
  },
  {
   "cell_type": "markdown",
   "id": "6b3e04cd",
   "metadata": {},
   "source": [
    "**Implement the created Data Structure**"
   ]
  },
  {
   "cell_type": "code",
   "execution_count": 21,
   "id": "ff6a34cc",
   "metadata": {},
   "outputs": [
    {
     "name": "stdout",
     "output_type": "stream",
     "text": [
      "10 -> 20 -> 30 -> 40 -> None\n",
      "25 inserted at index 2\n",
      "10 -> 20 -> 25 -> 30 -> 40 -> None\n",
      "20 removed\n",
      "10 -> 25 -> 30 -> 40 -> None\n",
      "Length of linked list: 4\n",
      "Value at index 2: 30\n"
     ]
    }
   ],
   "source": [
    "# Create a  linked list\n",
    "linked_list = LinkedList()\n",
    "\n",
    "# Append some values\n",
    "linked_list.append(10)\n",
    "linked_list.append(20)\n",
    "linked_list.append(30)\n",
    "linked_list.append(40)\n",
    "\n",
    "# Display the linked list\n",
    "linked_list.display()\n",
    "\n",
    "# Insert value at index 2\n",
    "linked_list.insert(2, 25)\n",
    "\n",
    "# Display the linked list after insertion\n",
    "linked_list.display()\n",
    "\n",
    "# Remove a value from the linked list\n",
    "linked_list.remove(20)\n",
    "\n",
    "# Display the linked list after removal\n",
    "linked_list.display()\n",
    "\n",
    "# Get the length of the linked list\n",
    "print('Length of linked list:', linked_list.length())\n",
    "\n",
    "# Get the value at index 2\n",
    "print('Value at index 2:', linked_list.get(2))"
   ]
  },
  {
   "cell_type": "markdown",
   "id": "2008054a",
   "metadata": {},
   "source": [
    "**Method to reverse a linked list**"
   ]
  },
  {
   "cell_type": "code",
   "execution_count": 22,
   "id": "782266ef",
   "metadata": {},
   "outputs": [],
   "source": [
    "# Method to reverse a linked list\n",
    "def reverse_linked_list(linked_list):\n",
    "    if linked_list.head is None:\n",
    "        return linked_list\n",
    "    \n",
    "    prev_node = None\n",
    "    current = linked_list.head\n",
    "    while current:\n",
    "        # Track the next node\n",
    "        next_node = current.next\n",
    "\n",
    "        # Modify the current node\n",
    "        current.next = prev_node\n",
    "\n",
    "        # Move prev_node and current one step forward\n",
    "        prev_node = current\n",
    "        current = next_node"
   ]
  },
  {
   "cell_type": "code",
   "execution_count": null,
   "id": "c7f24585",
   "metadata": {},
   "outputs": [],
   "source": []
  }
 ],
 "metadata": {
  "kernelspec": {
   "display_name": "Python 3",
   "language": "python",
   "name": "python3"
  },
  "language_info": {
   "codemirror_mode": {
    "name": "ipython",
    "version": 3
   },
   "file_extension": ".py",
   "mimetype": "text/x-python",
   "name": "python",
   "nbconvert_exporter": "python",
   "pygments_lexer": "ipython3",
   "version": "3.13.2"
  }
 },
 "nbformat": 4,
 "nbformat_minor": 5
}
