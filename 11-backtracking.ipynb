{
 "cells": [
  {
   "cell_type": "markdown",
   "id": "1e6bb697",
   "metadata": {},
   "source": [
    "# 11 - Backtracking\n",
    "\n",
    "Welcome to the eleventh notebook in our `dsa-in-python` series! In this notebook, we'll cover:\n",
    "\n",
    "- **Backtracking**: Definition and where to use it.\n",
    "- **Classic Backtracking Problems**:\n",
    "  - N-Queens Problem\n",
    "  - Subset Sum Problem"
   ]
  },
  {
   "cell_type": "markdown",
   "id": "fec05744",
   "metadata": {},
   "source": [
    "## What is Backtracking?\n",
    "\n",
    "**Backtracking** is an algorithmic technique for solving problems incrementally by trying partial solutions and then abandoning them if they are not suitable.\n",
    "\n",
    "It is often implemented with recursion."
   ]
  },
  {
   "cell_type": "markdown",
   "id": "61e2d2fd",
   "metadata": {},
   "source": [
    "## Key Points\n",
    "\n",
    "- Backtracking = DFS + Undo\n",
    "- Try every possibility\n",
    "- Abandon (backtrack) as soon as an invalid solution is found."
   ]
  },
  {
   "cell_type": "markdown",
   "id": "db5fa0c5",
   "metadata": {},
   "source": [
    "## Example 1: N-Queens Problem\n",
    "\n",
    "**Problem**: Place `N` queens on an `N×N` chessboard such that no two queens attack each other."
   ]
  },
  {
   "cell_type": "code",
   "execution_count": 1,
   "id": "231769f3",
   "metadata": {},
   "outputs": [
    {
     "name": "stdout",
     "output_type": "stream",
     "text": [
      "[[1, 3, 0, 2], [2, 0, 3, 1]]\n"
     ]
    }
   ],
   "source": [
    "\n",
    "def solve_n_queens(n):\n",
    "    def is_safe(board, row, col):\n",
    "        for i in range(row):\n",
    "            if board[i] == col or abs(board[i] - col) == abs(i - row):\n",
    "                return False\n",
    "        return True\n",
    "\n",
    "    def backtrack(row, board, solutions):\n",
    "        if row == n:\n",
    "            solutions.append(board[:])\n",
    "            return\n",
    "        for col in range(n):\n",
    "            if is_safe(board, row, col):\n",
    "                board[row] = col\n",
    "                backtrack(row + 1, board, solutions)\n",
    "\n",
    "    solutions = []\n",
    "    board = [-1] * n\n",
    "    backtrack(0, board, solutions)\n",
    "    return solutions\n",
    "\n",
    "# Example usage\n",
    "print(solve_n_queens(4))\n"
   ]
  },
  {
   "cell_type": "markdown",
   "id": "92862c73",
   "metadata": {},
   "source": [
    "## Example 2: Subset Sum Problem\n",
    "\n",
    "**Problem**: Find if there exists a subset of the list that sums up to a target value."
   ]
  },
  {
   "cell_type": "code",
   "execution_count": 2,
   "id": "670b7b0e",
   "metadata": {},
   "outputs": [
    {
     "name": "stdout",
     "output_type": "stream",
     "text": [
      "True\n"
     ]
    }
   ],
   "source": [
    "\n",
    "def subset_sum(nums, target):\n",
    "    def backtrack(index, current_sum):\n",
    "        if current_sum == target:\n",
    "            return True\n",
    "        if index == len(nums) or current_sum > target:\n",
    "            return False\n",
    "        # Include nums[index]\n",
    "        if backtrack(index + 1, current_sum + nums[index]):\n",
    "            return True\n",
    "        # Exclude nums[index]\n",
    "        if backtrack(index + 1, current_sum):\n",
    "            return True\n",
    "        return False\n",
    "\n",
    "    return backtrack(0, 0)\n",
    "\n",
    "# Example usage\n",
    "print(subset_sum([3, 34, 4, 12, 5, 2], 9))  # True (4+5 or 3+2+4)\n"
   ]
  },
  {
   "cell_type": "markdown",
   "id": "b7ba2635",
   "metadata": {},
   "source": [
    "## Summary\n",
    "\n",
    "- Backtracking is a brute-force approach that is smartly optimized by abandoning invalid paths.\n",
    "- It is useful for problems involving combinations, permutations, and constraints.\n",
    "\n",
    "Next up: **12 - Hashing**! 🚀"
   ]
  }
 ],
 "metadata": {
  "kernelspec": {
   "display_name": "Python 3",
   "language": "python",
   "name": "python3"
  },
  "language_info": {
   "codemirror_mode": {
    "name": "ipython",
    "version": 3
   },
   "file_extension": ".py",
   "mimetype": "text/x-python",
   "name": "python",
   "nbconvert_exporter": "python",
   "pygments_lexer": "ipython3",
   "version": "3.10.11"
  }
 },
 "nbformat": 4,
 "nbformat_minor": 5
}
